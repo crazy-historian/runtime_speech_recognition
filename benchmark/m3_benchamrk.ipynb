{
 "cells": [
  {
   "cell_type": "code",
   "execution_count": 3,
   "metadata": {
    "collapsed": true
   },
   "outputs": [
    {
     "name": "stdout",
     "output_type": "stream",
     "text": [
      "m3_forward:  2932.7 us\n"
     ]
    }
   ],
   "source": [
    "import torch\n",
    "import torch.nn.functional as F\n",
    "from torch import nn\n",
    "import timeit\n",
    "\n",
    "kernel_size = 80  # 10\n",
    "stride = 4  # 2\n",
    "\n",
    "\n",
    "def m3_forward(data = torch.rand(1, 1024)):\n",
    "    conv1 = nn.Conv1d(\n",
    "        in_channels=1,\n",
    "        out_channels=256,\n",
    "        kernel_size=kernel_size,\n",
    "        stride=stride\n",
    "    )\n",
    "    out1 = conv1(data)\n",
    "\n",
    "    bn1 = nn.BatchNorm1d(256)\n",
    "    out2 = F.relu(bn1(out1.unsqueeze(0)))\n",
    "\n",
    "    pool1 = nn.MaxPool1d(4)\n",
    "    out2 = pool1(out2)\n",
    "\n",
    "    conv2 = nn.Conv1d(256, 256, kernel_size=3)\n",
    "    bn2 = nn.BatchNorm1d(256)\n",
    "    out3 = conv2(out2)\n",
    "    out3 = F.relu(bn2(out3))\n",
    "\n",
    "    out3 = F.avg_pool1d(out2, out2.shape[-1])\n",
    "\n",
    "    fc1 = nn.Linear(256, 2)\n",
    "    sigmoid = nn.Sigmoid()\n",
    "\n",
    "    output = fc1(out3.permute(0, 2, 1))\n",
    "    output = sigmoid(output)\n",
    "\n",
    "\n",
    "x = torch.rand(1, 1024)\n",
    "\n",
    "t0 = timeit.Timer(\n",
    "    stmt='m3_forward(x)',\n",
    "    setup='from __main__ import m3_forward',\n",
    "    globals={'x': x})\n",
    "\n",
    "print(f'm3_forward:  {t0.timeit(100) / 100 * 1e6:>5.1f} us')"
   ]
  },
  {
   "cell_type": "code",
   "execution_count": 4,
   "outputs": [
    {
     "name": "stdout",
     "output_type": "stream",
     "text": [
      "<torch.utils.benchmark.utils.common.Measurement object at 0x7f66125b27d0>\n",
      "m3_forward(x)\n",
      "setup: from __main__ import m3_forward\n",
      "  3.49 ms\n",
      "  1 measurement, 100 runs , 1 thread\n"
     ]
    }
   ],
   "source": [
    "import torch.utils.benchmark as benchmark\n",
    "\n",
    "t0 = benchmark.Timer(\n",
    "    stmt='m3_forward(x)',\n",
    "    setup='from __main__ import m3_forward',\n",
    "    globals={'x': x})\n",
    "\n",
    "print(t0.timeit(100))"
   ],
   "metadata": {
    "collapsed": false
   }
  }
 ],
 "metadata": {
  "kernelspec": {
   "display_name": "Python 3",
   "language": "python",
   "name": "python3"
  },
  "language_info": {
   "codemirror_mode": {
    "name": "ipython",
    "version": 2
   },
   "file_extension": ".py",
   "mimetype": "text/x-python",
   "name": "python",
   "nbconvert_exporter": "python",
   "pygments_lexer": "ipython2",
   "version": "2.7.6"
  }
 },
 "nbformat": 4,
 "nbformat_minor": 0
}
