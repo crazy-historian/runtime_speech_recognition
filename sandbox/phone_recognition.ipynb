{
 "cells": [
  {
   "cell_type": "code",
   "execution_count": 1,
   "metadata": {
    "collapsed": true,
    "pycharm": {
     "name": "#%%\n"
    }
   },
   "outputs": [
    {
     "name": "stderr",
     "output_type": "stream",
     "text": [
      "/media/maxim/5d25e004-74c4-4174-8cd3-d5dce3ff6981/maxim/python_projects/speech_recognition/venv_3.8/lib/python3.8/site-packages/pydub/utils.py:170: RuntimeWarning: Couldn't find ffmpeg or avconv - defaulting to ffmpeg, but may not work\n",
      "  warn(\"Couldn't find ffmpeg or avconv - defaulting to ffmpeg, but may not work\", RuntimeWarning)\n"
     ]
    }
   ],
   "source": [
    "import pandas as pd\n",
    "import textgrid\n",
    "from data.arctic.extractor import get_phone_fragments"
   ]
  },
  {
   "cell_type": "markdown",
   "metadata": {
    "pycharm": {
     "name": "#%% md\n"
    }
   },
   "source": [
    "## Data Loading"
   ]
  },
  {
   "cell_type": "code",
   "execution_count": 2,
   "metadata": {
    "pycharm": {
     "name": "#%%\n"
    }
   },
   "outputs": [],
   "source": [
    "arctic_df = pd.read_csv('./data/arctic/arctic_description.csv')"
   ]
  },
  {
   "cell_type": "code",
   "execution_count": 3,
   "metadata": {
    "pycharm": {
     "name": "#%%\n"
    }
   },
   "outputs": [
    {
     "name": "stdout",
     "output_type": "stream",
     "text": [
      "/media/maxim/Programming/voice_datasets/arctic/l2arctic_release_v5.0/data/YDCK/annotation/arctic_a0272.TextGrid 2.22363\n",
      "/media/maxim/Programming/voice_datasets/arctic/l2arctic_release_v5.0/data/YDCK/annotation/arctic_a0209.TextGrid 3.55456\n"
     ]
    },
    {
     "data": {
      "text/plain": "{'sp': 8031,\n 'N': 6889,\n 'AH0': 6663,\n 'T': 6067,\n 'S': 4477,\n 'D': 4422,\n 'L': 4037,\n 'sil': 3968,\n 'R': 3880,\n '': 3635,\n 'M': 3485,\n 'IH1': 3297,\n 'HH': 3195,\n 'AH1': 3120,\n 'W': 3078,\n 'IH0': 3061,\n 'K': 2878,\n 'AE1': 2768,\n 'EH1': 2667,\n 'IY1': 2603,\n 'F': 2525,\n 'IY0': 2061,\n 'P': 1962,\n 'Z': 1942,\n 'AY1': 1916,\n 'B': 1892,\n 'V': 1870,\n 'EY1': 1869,\n 'UW1': 1792,\n 'ER0': 1760,\n 'DH': 1678,\n 'AO1': 1634,\n 'SH': 1266,\n 'NG': 1221,\n 'OW1': 1108,\n 'AA1': 1095,\n 'G': 1046,\n 'Y': 947,\n 'CH': 787,\n 'DH,D,s ': 742,\n 'AW1': 713,\n 'DH,D,s': 703,\n 'Z,S,s': 689,\n 'Z,S,s ': 578,\n 'UH1': 567,\n 'TH': 496,\n 'ER1': 490,\n 'JH': 422,\n 'Z, S, s': 417,\n 'IH1,IY1,s ': 375,\n 'D,sil,d': 367,\n 'R,sil,d': 325,\n 'T,sil,d': 281,\n 'D, sil, d': 275,\n 'T, sil, d': 244,\n 'OW1, AO, s': 244,\n 'IH1,IY1,s': 238,\n 'L,W,s': 223,\n 'DH, D, s': 221,\n 'OW0': 216,\n 'L,sil,d': 211,\n 'R,R*,s': 209,\n 'OY1': 189,\n 'UW0': 178,\n 'EY1, EH, s': 177,\n 'sil,AH0,a': 174,\n 'D,T,s': 166,\n 'P,B,s': 162,\n 'Z,sil,d': 153,\n 'N,NG,s ': 150,\n 'R, sil, d': 136,\n 'IH2': 133,\n 'R, R*, s': 130,\n 'V,F,s': 126,\n 'OW2': 119,\n 'ER0,AH0,s ': 118,\n 'V, F, s': 117,\n 'AH0,sil,d': 116,\n 'N,sil,d': 112,\n 'IY2': 111,\n 'TH,T,s': 108,\n 'EH1,AE1,s': 107,\n 'AO0': 106,\n 'IH1,IY,s': 104,\n 'ER0,AH0,s': 100,\n 'AY2': 100,\n 'R,R*,s ': 95,\n 'V,B,s': 95,\n 'ER0, AX, s': 94,\n 'T,T*,s': 93,\n 'EH0': 92,\n 'AE1,EH,s': 92,\n 'N,NG,s': 91,\n 'AY0': 90,\n 'ER0,AH,s': 89,\n 'T,D,s': 88,\n 'HH,HH*,s': 85,\n 'sil, AX, a': 83,\n 'AH1,AO1,s': 83,\n 'S,sil,d': 81,\n 'TH,S,s': 79,\n 'ZH': 75,\n 'EH2': 75,\n 'AE1,AA1,s ': 73,\n 'V,sil,d': 71,\n 'R,sil,d ': 71,\n 'T,T*,s ': 69,\n 'sil,R,a': 68,\n 'DH,Z,s': 67,\n 'JH,CH,s': 66,\n 'AA2': 64,\n 'AE1,AA*,s': 63,\n 'AH1,AA*,s': 63,\n 'V,W,s': 60,\n 'K,G,s': 59,\n 'NG,N,s': 59,\n 'D,sil,d ': 59,\n 'ER1,UH,s': 58,\n 'JH,ZH,s': 57,\n 'AH1,AO,s': 57,\n 'T,S,s': 57,\n 'IH0,IY0,s': 54,\n 'B,P,s': 53,\n 'AA1, AO, s': 53,\n 'sil,S,a': 53,\n 'D,T,s ': 53,\n 'AH1,AA,s': 53,\n 'TH,T,s ': 52,\n 'S,Z,s': 51,\n 'sil,G,a': 51,\n 'EY0': 50,\n 'W,V,s': 50,\n 'ER1, AX, s': 50,\n 'HH, sil, d': 50,\n 'P,B,s ': 49,\n 'EY2': 48,\n 'N, sil, d': 47,\n 'TH, T, s': 47,\n 'OW0, AO, s': 46,\n 'L, sil, d': 46,\n 'N,N*,s ': 45,\n 'K,sil,d': 45,\n 'SH,S,s': 45,\n 'sil,K,a': 44,\n 'V,P,s': 44,\n 'P, B, s': 43,\n 'D,D*,s': 43,\n 'AA0': 42,\n 'AH1,AO1,s ': 42,\n 'IH0,sil,d': 41,\n 'D,D*,s ': 40,\n 'T,sil,d ': 40,\n 'DH,L,s': 40,\n 'L,L*,s ': 39,\n 'AH1,AA1,s': 39,\n 'L,sil,d ': 39,\n 'JH, CH, s': 38,\n 'JH, ZH, s': 38,\n 'AE1, AA, s': 38,\n 'ER0,ER*,s': 37,\n 'AE2': 36,\n 'EY1,EH,s': 36,\n 'G,K,s': 36,\n 'sil, G, a': 36,\n 'AE0': 35,\n 'UH1,UW,s': 35,\n 'AW1, AA, s': 35,\n 'UH0': 34,\n 'R,err,s ': 34,\n 'sil, R, a': 34,\n 'IH0,IY,s': 34,\n 'OW1,AO,s': 34,\n 'IY1,IH,s': 33,\n 'sil,IH0,a': 33,\n 'UH2': 32,\n 'P,P*,s': 32,\n 'K, sil, d': 32,\n 'Z,sil,d ': 32,\n 'HH,sil,d': 31,\n 'ER1,AH0,s': 31,\n 'AW0': 30,\n 'AA1,AO,s': 29,\n 'W,sil,d': 29,\n 'L,L*,s': 29,\n 'D, T, s': 29,\n 'sil, EH, a': 29,\n 'JH,SH,s': 29,\n 'R,AH0,s ': 29,\n 'T, D, s': 28,\n 'AA1,AO1,s': 28,\n 'L,N,s': 28,\n 'ER1,AH,s': 28,\n 'IH1,EH,s': 27,\n 'ER0,R*,s': 27,\n 'UW2': 27,\n 'AE1,AA,s': 27,\n 'R,AH0,s': 27,\n 'AY1, AA, s': 27,\n 'sil,D,a': 27,\n 'sil,EH0,a ': 27,\n 'V,B*,s': 27,\n 'ZH,SH,s': 26,\n 'TH,D,s': 26,\n 'AH0,IH,s': 26,\n 'AH0, sil, d': 26,\n 'W, V, s': 26,\n 'TH, S, s': 26,\n 'R,AH,s': 26,\n 'D,S,s': 25,\n 'W,W*,s': 25,\n 'AH0,IY,s': 25,\n 'AA1,OW,s': 24,\n 'V,V*,s': 24,\n 'DH,sil,d': 24,\n 'S,SH,s': 24,\n 'DH, Z, s': 24,\n 'K,G,s ': 23,\n 'OW2, AO, s': 23,\n 'AH0,AA,s': 23,\n 'IY1, IH, s': 23,\n 'UH1,UW1,s': 23,\n 'AH0,IH0,s': 23,\n 'L,R,s': 23,\n 'AH0,AA*,s': 23,\n 'sil,AH,a': 23,\n 'sil,T,a': 22,\n 'L,err,s': 22,\n 'B, P, s': 22,\n 'P, sil, d': 22,\n 'P,F,s': 22,\n 'G, K, s': 22,\n 'AH0,EH*,s': 22,\n 'sil, IH, a': 22,\n 'AH0,EH0,s ': 22,\n 'sil, Y, a': 21,\n 'EH1,AE,s': 21,\n 'JH,CH,s ': 21,\n 'M,N,s': 21,\n 'DH,T,s': 21,\n 'F,P,s': 21,\n 'DH, sil, d': 20,\n 'AH0, EH, s': 20,\n 'B, V, s': 20,\n 'AH0,EH0,s': 20,\n 'AO1,OW,s': 19,\n 'AH0, IH, s': 19,\n 'P,sil,d': 19,\n 'DH, T, s': 19,\n 'AH1, AO, s': 19,\n 'AE1,AA1,s': 19,\n 'IY1,IH1,s': 19,\n 'R,L,S': 19,\n 'L,W,s ': 19,\n 'sil,IH,a': 18,\n 'K,K*,s': 18,\n 'Z, sil, d': 18,\n 'OW1,AO1,s': 18,\n 'AH0,OW,s': 17,\n 'ER0,UH,s': 17,\n 'AH0, AO, s': 17,\n 'S, Z, s': 17,\n 'T,err,s ': 17,\n 'AH0,EY,s': 16,\n 'ER1,err,s': 16,\n 'Y,sil,d': 16,\n 'AH0,IY0,s': 16,\n 'G,sil,d': 16,\n 'EH1,EY1,s': 16,\n 'AO1,OW1,s': 16,\n 'ER0,sil,d': 16,\n 'sil,EH*,a': 16,\n 'Z,S,S': 16,\n 'NG, N, s': 16,\n 'EH1,IH,s': 15,\n 'CH,SH,s': 15,\n 'AW1,OW,s': 15,\n 'AH0,AO,s': 15,\n 'AO2': 15,\n 'F,sil,d': 15,\n 'EH1, AE, s': 15,\n 'L, R, s': 15,\n 'EY1,AE1,s': 15,\n 'sil,N,a': 15,\n 'sil,W,a': 15,\n 'sil,IY,a': 14,\n 'DH,S,s': 14,\n 'sil,Y,a': 14,\n 'ER1,ER*,s': 14,\n 'R, L, s': 14,\n 'L,err,s ': 14,\n 'NG,sil,d': 14,\n 'AE1,EY,s': 14,\n 'AH2': 14,\n 'AH0,OW*,s ': 14,\n 'S,Z,s ': 14,\n 'T,TH,s': 14,\n 'AH0,OW*,s': 14,\n 'EH,AE,s ': 14,\n 'R,err,s': 13,\n 'EH1,EY,s': 13,\n 'F,V,s': 13,\n 'V, W, s': 13,\n 'R, AX, s': 13,\n 'sil, S, a': 13,\n 'DH, TH, s': 13,\n 'R,L,s': 13,\n 'EY1,AE,s': 13,\n 'Z,JH,s': 13,\n 'IH1,EH1,s': 13,\n 'N,sil,d ': 13,\n 'ER1,AH0,s ': 13,\n 'sil, D, a': 12,\n 'ER0,err,s': 12,\n 'DH,TH,s': 12,\n 'AH0,UW,s': 12,\n 'G, sil, d': 12,\n 'sil, N, a': 12,\n 'V, sil, d': 12,\n 'TH,sil,d': 12,\n 'T, R, s': 12,\n 'AA1,AH,s': 12,\n 'AY1,AA,s': 12,\n 'DH, L, s': 12,\n 'EH1,AH0,s': 12,\n 'AH0,AE,s': 11,\n 'IH0, sil, d': 11,\n 'IH1, IY, s': 11,\n 'HH,err,s': 11,\n 'D,DH,s': 11,\n 'Y,JH,s': 11,\n 'JH,sil,d': 11,\n 'AA1,OW1,s': 11,\n 'IH0,IY,S': 11,\n 'T,S,s ': 11,\n 'AO1,AO*,s': 11,\n 'AO1,AH0,s': 11,\n 'AH1,OW,s': 10,\n 'TH,F,s': 10,\n 'ER0, R, s': 10,\n 'sil, L, a': 10,\n 'T, err, s': 10,\n 'AH0, UH, s': 10,\n 'EH1,IY1,s': 10,\n 'M, N, s': 10,\n 'D, AX, s': 10,\n 'EH1,AA1,s': 10,\n 'T,Z,s': 10,\n 'sil,Z,a': 10,\n 'sil, AH, a': 10,\n 'OW1,AW,s': 10,\n 'AH0,UH,s': 10,\n 'ER1,AO1,s': 10,\n 'K,sil,d ': 10,\n 'S,sil,d ': 10,\n 'JH,S,s': 10,\n 'T,CH,s': 10,\n 'T,D,s ': 10,\n 'D,err,s ': 10,\n 'IH0,EH,s': 9,\n 'IY0,sil,d': 9,\n 'AH1,AE,s': 9,\n 'AW1,AO,s': 9,\n 'D, err, s': 9,\n 'Y, sil, d': 9,\n 'AH0,AE0,s': 9,\n 'N, M, s': 9,\n 'AO1, OW, s': 9,\n 'ER1,EH1,s': 9,\n 'AW1,AO1,s': 9,\n 'N,M,s': 9,\n 'sil,HH,a': 9,\n 'Z,T,s': 9,\n 'AA1,AH0,s': 9,\n 'AE1,AA*,s ': 9,\n 'P, F, s': 9,\n 'R, err, s': 9,\n 'AY1,AA*,s': 9,\n 'AH0,AY,s': 9,\n 'ZH,S,s': 9,\n 'W, sil, d': 9,\n 'ER1, EH, s': 9,\n 'AA1,EH,s': 8,\n 'AA1,AE,s': 8,\n 'IH0, UH, s': 8,\n 'AA1,AA*,s': 8,\n 'K, G, s': 8,\n 'TH, sil, d': 8,\n 'ZH, SH, s': 8,\n 'EY1, IY, s': 8,\n 'EH1, IH, s': 8,\n 'UW1,AO1,s': 8,\n 'CH,S,s': 8,\n 'sil,IY0,a': 8,\n 'D, R, s': 8,\n 'IY0, EH, s': 8,\n 'IH0,EH0,s': 8,\n 'EH1,EH*,s': 8,\n 'sil,L,a': 8,\n 'AH1,UH,s': 8,\n 'EH1,IH1,s': 8,\n 'Z, JH, s': 8,\n 'R,W,s': 8,\n 'D,AH0,s': 8,\n 'T,K,s': 8,\n 'D,N,s': 8,\n 'S,T,s': 8,\n 'EY1,IH,S': 8,\n 'AH0,EH1,s': 8,\n 'N,N*,s': 8,\n 'UW1, AO, s': 7,\n 'UW1,UH,s': 7,\n 'EH1,IY,s': 7,\n 'TH,T*,s': 7,\n 'EY1,EY*,s': 7,\n 'AE1, AH, s': 7,\n 'sil, W, a': 7,\n 'sil, HH, a': 7,\n 'AW1,AA,s': 7,\n 'ER0,R,s': 7,\n 'EY1, AY, s': 7,\n 'AH0,AA0,s': 7,\n 'AY1,AE1,s': 7,\n 'ER1,R,s': 7,\n 'sil,err,a': 7,\n 'IY0, sil, d': 7,\n 'OY2': 7,\n 'AH0,EY0,s': 7,\n 'AH0, EY, s': 7,\n 'ER0,AO,s': 7,\n 'IH1,IY,S': 7,\n 'V, err, s': 7,\n 'UH1,AO1,s': 7,\n 'P,V,s': 7,\n 'D,Z,s': 7,\n 'AH0,OW0,s': 7,\n 'sil,EH,a': 7,\n 'IY0,IH,s': 7,\n 'EH1,AH,s': 7,\n 'N,L,s': 7,\n 'CH,sil,d': 7,\n 'EY2, EH, s': 7,\n 'EY0, EH, s': 7,\n 'IH1,sil,d': 6,\n 'AH0,EH,s': 6,\n 'IY1,EH,s': 6,\n 'ER1,R*,s': 6,\n 'G,G*,s': 6,\n 'IH0, EH, s': 6,\n 'EH1, sil, d': 6,\n 'T, DH, s': 6,\n 'sil, M, a': 6,\n 'AA2, AO, s': 6,\n 'S, sil, d': 6,\n 'DH,D,S': 6,\n 'sil,SH,a': 6,\n 'UW1, UH, s': 6,\n 'sil, UH, a': 6,\n 'AH0,AO0,s': 6,\n 'IH1, EH, s': 6,\n 'AH1,OW1,s': 6,\n 'AH0,UW0,s': 6,\n 'AH0, AY, s': 6,\n 'IY0, IH, s': 6,\n 'IH0,IY0,s ': 6,\n 'sil,F,a': 6,\n 'CH,T,s': 6,\n 'Z,ZH,s': 6,\n 'OW1,AO,S': 6,\n 'IH1,AY1,s': 6,\n 'S,SH,s ': 6,\n 'M,NG,s': 6,\n 'AO1,AH,s': 6,\n 'T,L,s': 6,\n 'ER0, AH, s': 6,\n 'ER1,AH1,s': 6,\n 'AA1,ER,s': 6,\n 'ER0,EH,s': 5,\n 'sil,R*,a': 5,\n 'sil,B,a': 5,\n 'SH,ZH,s': 5,\n 'UW1,IY,s': 5,\n 'AA2,AO,s': 5,\n 'IH0, AY, s': 5,\n 'ER, R, s': 5,\n 'sil,UW,a': 5,\n 'CH, SH, s': 5,\n 'DH, err, s': 5,\n 'UW1,OW1,s': 5,\n 'EY1,IY1,s': 5,\n 'AW1,AA1,s': 5,\n 'UW1,UH1,s': 5,\n 'EY1,AY1,s': 5,\n 'ER0, EH, s': 5,\n 'T,N,s': 5,\n 'M,sil,d': 5,\n 'Z, err, s': 5,\n 'EH1, ER, s': 5,\n 'ER0,EH0,s': 5,\n 'AE1,EY1,s': 5,\n 'JH,Y,s': 5,\n 'B,V,s': 5,\n 'OW0,AO,s': 5,\n 'NG,M,s': 5,\n 'EH1,EY*,s': 5,\n 'CH,ZH,s': 5,\n 'ZH,JH,s': 5,\n 'EY1,EH,S': 5,\n 'OW1, AA, s': 5,\n 'AE1, EH, s': 5,\n 'B, sil, d': 5,\n 'AH0,IY2,s': 5,\n 'SH,S,s ': 5,\n 'TH,sil,d ': 5,\n 'AE1,AE*,s': 5,\n 'N,D,s': 5,\n 'AO1,UH,s': 5,\n 'AO1,ER,s': 5,\n 'AH0,AO1,s': 5,\n 'IH1,AH0,s': 5,\n 'OW1,AO1,s ': 5,\n 'sil, K, a': 5,\n 'ER0, R*, s': 4,\n 'AY1,IH,s': 4,\n 'IY': 4,\n 'UW1,OW,s': 4,\n 'B,sil,d': 4,\n 'TH,Z,s': 4,\n 'AA1, EH, s': 4,\n 'AO1,AA,s': 4,\n 'T,D,S': 4,\n 'AH0, AA, s': 4,\n 'EH1, IY, s': 4,\n 'EY1, AE, s': 4,\n 'R, AH, s': 4,\n 'SH, CH, s': 4,\n 'NG, sil, d': 4,\n 'JH, err, s': 4,\n 'AH1, UH, s': 4,\n 'D,K,s': 4,\n 'P,T,s': 4,\n 'AY1,IY1,s': 4,\n 'EY1,sil,d': 4,\n 'sil,P,a': 4,\n 'AY1,AA1,s': 4,\n 'AW1,AH1,s': 4,\n 'AA1, AH, s': 4,\n 'Y, JH, s': 4,\n 'AW1, AO, s': 4,\n 'AH1,UW1,s': 4,\n 'EY1,AA1,s': 4,\n 'K,S,s': 4,\n 'F, sil, d': 4,\n 'Z,R,s': 4,\n 'R,ER,s': 4,\n 'AO1,OW*,s': 4,\n 'D,err,s': 4,\n 'OW1,OW*,s': 4,\n 'AA1,OW*,s': 4,\n 'B,F,s': 4,\n 'HH,JH,s': 4,\n 'IH0,EY0,s': 4,\n 'AE1,EH1,s': 4,\n 'AO1, AX, s': 4,\n 'F,B,s': 4,\n 'IH0,sil,d ': 4,\n 'G,sil,d ': 4,\n 'EY1,EH1,s': 4,\n 'Z,TH,s': 4,\n 'JH,D,s': 4,\n 'AH1,ER,s': 4,\n 'EH1,sil,d': 4,\n 'AO1, AA, s': 4,\n 'OW1,AW1,s': 4,\n 'F, V, s': 4,\n 'AE1,AH0,s': 4,\n 'EY1,IH,s': 4,\n 'Z,D,s': 4,\n 'L,AH0,s': 4,\n 'W,V,S': 4,\n 'AH0,UH0,s': 4,\n 'OW1,AA,s': 4,\n 'sil, T, a': 4,\n 'ER1,err,s ': 4,\n 'sil,DH,a': 3,\n 'IY0,EH,s': 3,\n 'UH1,AO,s': 3,\n 'sil, AO, a': 3,\n 'sil, err, a': 3,\n 'IH0,EY,s': 3,\n 'T,err,s': 3,\n 'UH1,OW,s': 3,\n 'S,TH,s': 3,\n 'Z,DH,s': 3,\n 'D,B,s': 3,\n 'AE1,AH1,s': 3,\n 'AH1,UW,s': 3,\n 'ER0, sil, d': 3,\n 'TH, err, s': 3,\n 'UW1, IH, s': 3,\n 'AY1, AH, s': 3,\n 'SH, S, s': 3,\n 'EY1,IY,s': 3,\n 'DH,HH,s': 3,\n 'IH0, EY, s': 3,\n 'AY1, IH, s': 3,\n 'D, EH, s': 3,\n 'sil,EH0,a': 3,\n 'S, SH, s': 3,\n 'AH0, ER, s': 3,\n 'AH0,ER0,s': 3,\n 'AA1,AE1,s': 3,\n 'AA1,EH1,s': 3,\n 'K, HH, s': 3,\n 'IY1, AX, s': 3,\n 'IH0, IY, s': 3,\n 'AH0, AE, s': 3,\n 'D, DH, s': 3,\n 'D, TH, s': 3,\n 'IH1, sil, d': 3,\n 'S, TH, s': 3,\n 'AO1,AW1,s': 3,\n 'ER0,AO0,s': 3,\n 'sil,IH0,a ': 3,\n 'sil, DH, a': 3,\n 'EY0,AH0,s': 3,\n 'HH,err,s ': 3,\n 'D, N, s': 3,\n 'S,HH,s': 3,\n 'B,B*,s': 3,\n 'ER1,UW,s': 3,\n 'IY1,EH1,s': 3,\n 'OW1,UH,S': 3,\n 'L,R,S': 3,\n 'IH2,IY,s': 3,\n 'AO1,err,s': 3,\n 'IH0, AX, s': 3,\n 'L, err, s': 3,\n 'EY1,EH*,s': 3,\n 'DH,sil,d ': 3,\n 'sil,NG,a': 3,\n 'ER0,AO1,s': 3,\n 'sil,V,a': 3,\n 'JH,G,s': 3,\n 'UW1,AH1,s': 3,\n 'UW1,IY1,s': 3,\n 'IY1,OW,s': 3,\n 'IY0,AY,s': 3,\n 'R,IH,s': 3,\n 'T,F,s': 3,\n 'AE1,AH,s': 3,\n 'EY0,sil,d': 3,\n 'DH,N,s': 3,\n 'IH2,IY2,s': 3,\n 'AA1, AX, s': 3,\n 'OW0, AH, s': 3,\n 'T, L, s': 3,\n 'IY0,IH0,s': 3,\n 'N, NG, s': 3,\n 'AE1, AX, s': 3,\n 'spn': 3,\n 'EH1,AA,s': 3,\n 'AE1,sil,d': 3,\n 'sil,OW,a': 3,\n 'AH1,AW,s': 3,\n 'AH1, EH, s': 3,\n 'R, ER, s': 3,\n 'AW1,AW*,s': 3,\n 'IY1,sil,d': 3,\n 'UH1,AH,s': 3,\n 'IH': 3,\n 'AO1, UH, s': 3,\n 'IY1, err, s': 3,\n 'K,G,S': 3,\n 'AE1,AH,S': 3,\n 'ER0,EH,S': 3,\n 'ER0,L,S': 3,\n 'AW1,OW1,s': 3,\n 'K,T,s': 3,\n 'IY1, EH, s': 3,\n 'AY1, EH, s': 3,\n ' ': 3,\n 'sil,CH,a': 3,\n 'Z,Y,s': 3,\n 'sil,ZH,a': 3,\n 'L,NG,s': 3,\n 'ER1,AO,s': 3,\n 'ER0,AX,s': 3,\n 'AH0,ER,s': 3,\n 'DH, HH, s': 3,\n 'EH': 3,\n 'EH1,IH,S': 3,\n 'UW1, AX, s': 3,\n 'ER1,EH,s': 2,\n 'AO1,UW,s': 2,\n 'IH0,AY,s': 2,\n 'R,R*, s': 2,\n 'sil, R*, a': 2,\n 'AA1,sil,d': 2,\n 'OW1,UW,s': 2,\n 'IH0,AA,s': 2,\n 'UW1,AO,s': 2,\n 'EH2,IY,s': 2,\n 'IH1,EY,s': 2,\n 'P,P*,s ': 2,\n 'IH0,IY1,s': 2,\n 'AH0, EH1, s': 2,\n 'DH,D*,s': 2,\n 'K, W, s': 2,\n 'Z, SH, s': 2,\n 'D, V, s': 2,\n 'L, F, s': 2,\n 'R, AO, s': 2,\n 'EH1, AA, s': 2,\n 'AH1,sil,d': 2,\n 'AH0,OW1,s': 2,\n 'AH1,AE1,s': 2,\n 'AH1, AW, s': 2,\n 'AH1, AE, s': 2,\n 'Y,IY0,s': 2,\n 'EH0,AE0,s': 2,\n 'AE1, EY, s': 2,\n 'AA0, AW, s': 2,\n 'T, TH, s': 2,\n 'JH, SH, s': 2,\n 'Y, IH, s': 2,\n 'EY1, AH, s': 2,\n 'JH, Y, s': 2,\n 'Z, TH, s': 2,\n 'JH, sil, d': 2,\n 'AW1, OW, s': 2,\n 'D, L, s': 2,\n 'AE2, AA, s': 2,\n 'EH1, AX, s': 2,\n 'UW0, UH, s': 2,\n 'T, S, s': 2,\n 'AY1, EY, s': 2,\n 'IY1,EY1,s': 2,\n 'K,err,s': 2,\n 'sil,AH0,a ': 2,\n 'ER1,IY1,s': 2,\n 'G,D,s': 2,\n 'IY0,EH0,s': 2,\n 'UW1,AH0,s': 2,\n 'V, B, s': 2,\n 'W, Y, s': 2,\n 'EY1, IH, s': 2,\n 'OY1, AO, s': 2,\n 'ER0, L, s': 2,\n 'D,V,s': 2,\n 'V,S,s': 2,\n 'EH1,ER1,s': 2,\n 'EH1,AH1,s': 2,\n 'SH,CH,s': 2,\n 'Y,Y*,s': 2,\n 'IH0,EH*,s': 2,\n 'IY0,EH*,s': 2,\n 'AH1,OW*,s': 2,\n 'sil,M,a': 2,\n 'AY0,IY,s': 2,\n 'AA1,UW,s': 2,\n 'AO1,ER1,s': 2,\n 'T,R*,s': 2,\n 'AO1,ER,S': 2,\n 'Z,ZH,S': 2,\n 'UW1,sil,d': 2,\n 'UW1,AA1,s': 2,\n 'T,P,s': 2,\n 'AE1, AO, s': 2,\n 'L, R*, s': 2,\n 'HH, JH, s': 2,\n 'ZH, Z, s': 2,\n 'AH0,sil,d ': 2,\n 'S,K,s': 2,\n 'ZH,Z,s': 2,\n 'EY1,AA,s': 2,\n 'P,sil,d ': 2,\n 'N,Z,s': 2,\n 'UW1,AA,s': 2,\n 'UW2,AH,s': 2,\n 'EY0,EH,s': 2,\n 'sil,AO,a': 2,\n 'JH,K,s': 2,\n 'K,CH,s': 2,\n 'Y,IH,s': 2,\n 'UW0,sil,d': 2,\n 'L,IH,s': 2,\n 'JH,T,s': 2,\n 'UW1,AH,s': 2,\n 'ER0,Ah,s': 2,\n 'AH0,AE1,s': 2,\n 'sil,IY1,a': 2,\n 'UW1, AH, s': 2,\n 'ER0, AO, s': 2,\n 'AH0, err, s': 2,\n 'D, JH, s': 2,\n 'M, sil, d': 2,\n 'IY2,sil,d': 2,\n 'D,L,s': 2,\n 'ER1,AA1,s': 2,\n 'AE1, AW, s': 2,\n 'EH1, AY, s': 2,\n 'B,M,s': 2,\n 'S,W,s': 2,\n 'TH,DH,s': 2,\n 'sil, AH0,a': 2,\n 'EY0,AA,s': 2,\n 'ZH,DH,s': 2,\n 'EY1,AH0,s': 2,\n 'HH,DH,s': 2,\n 'sil,t,a': 2,\n 'AH1,ER0,s': 2,\n 'AY1,AE,s': 2,\n 'AE1,IY,s': 2,\n 'OW,AO,s': 2,\n 'EH1,AY,s': 2,\n 'HH, err, s': 2,\n 'CH,JH*,s': 2,\n 'AE2,EY2,s': 2,\n 'CH,sil,d ': 2,\n 'D,ZH,s': 2,\n 'sil,UH,a': 2,\n 'AA0,AW,s': 2,\n 'N,F,s': 2,\n 'S,ZH,s': 2,\n 'ER0,L,s': 2,\n 'OW0,UH,S': 2,\n 'D,SIL,D': 2,\n 'AA1,AO,S': 2,\n 'R,SIL,D': 2,\n 'sil,r,a': 2,\n 'P,B,S': 2,\n 'IH1, AY, s': 2,\n 'UH1, AO, s': 2,\n 'TH, D, s': 2,\n 'AE1, IH, s': 2,\n 'AH0,AA1,s': 2,\n 'AW1,OW*,s': 2,\n 'UH1,AH0,s': 2,\n 'AH0, AE1, s': 2,\n 'ER0,ER0*,s': 2,\n 'AA1,AW,s': 2,\n 'ER,AH0,s ': 2,\n 'F,T*,s': 2,\n 'AE1,EY*,s': 2,\n 'HH,S,s': 2,\n 'G,JH,s': 2,\n 'R,UH,s': 2,\n 'AA2,AH,s': 2,\n 'T,IH,s': 2,\n 'sil,TH,a': 2,\n 'S,CH,s': 2,\n 'sil,s,a': 2,\n 'AH0, R, s': 2,\n 'AA,AO,s': 2,\n 'AH,AO,s': 2,\n 'ER,AX,s': 2,\n 'IH,AE,s': 2,\n 'ER,sil,d': 2,\n 'JH,err,s': 2,\n 'HH, Y, s': 2,\n 'P, err, s': 2,\n 'AO1, err, s': 2,\n 'UH1,sil,d': 2,\n 'OW0,AH0,s': 2,\n 'OW1,UW,S': 2,\n 'AH0,IH,S': 2,\n 'AE1,IH,S': 2,\n 'AE1,AA,S': 2,\n 'AA1,UH1,s': 2,\n 'AY1,EY1,s': 2,\n 'Z, ZH, s': 2,\n 'AW0, AA, s': 2,\n 'ER0, R*,s': 1,\n 'AY1,OY,s': 1,\n 'ER2': 1,\n 'ER)': 1,\n 'OW1,IY,s': 1,\n 'IH1,ER,s': 1,\n ' TH': 1,\n 'EY2,EH,s': 1,\n 'ER,EH,s': 1,\n 'AA1, UW, s': 1,\n 'R,D,s ': 1,\n 'EH2,IH,s': 1,\n 'OW0,sil,d': 1,\n 'DH,Z,s ': 1,\n 'W,V*,s': 1,\n 'IY1,EH*,s': 1,\n 'ER0,ER*,s ': 1,\n 'EY2,EY*,s': 1,\n 'UH1,OW*,s': 1,\n 'JH,JH*,s': 1,\n 'R,  R*, s': 1,\n 'OW2, UH, s': 1,\n 'AY0, AH, s': 1,\n 'AW': 1,\n 'HH, T, s': 1,\n 'UW1, UH0, s': 1,\n 'V, w, s': 1,\n 'DH, D*, s': 1,\n 'UW2, UH, s': 1,\n 'AH0, UH1, s': 1,\n 'AW, AA, s': 1,\n 'EH1,ER,s': 1,\n 'R,N,s': 1,\n 'IH1,AY,s': 1,\n 'EH0,sil,d': 1,\n 'HH,Y,s': 1,\n 'EY2,IH,s': 1,\n 'OW1,W,s': 1,\n 'V,w,s': 1,\n 'T,D*,s': 1,\n 'AE1,AY,s': 1,\n 'ER0, W, s': 1,\n 'OW1, ER, s': 1,\n 'B, F, S': 1,\n 'L, AH, s': 1,\n 'HH, SH, s': 1,\n 'EH1, EY, s': 1,\n 'T, K, s': 1,\n 'Z, G, s': 1,\n 'AH1, sil, d': 1,\n 'AY1, IY, s': 1,\n 'K, DH, s': 1,\n 'SH, sil, d': 1,\n 'HH,SH,s': 1,\n 'DH,D,S ': 1,\n 'AH0,B,s': 1,\n 'B,AH0,s': 1,\n 'sil,AH1,a': 1,\n 'JH, G, s': 1,\n 'NG, UH, s': 1,\n 'OW1, AX, s': 1,\n 'L,W,S': 1,\n 'F,err,s': 1,\n 'IH1,err,s': 1,\n 'IH0,err,s': 1,\n 'P,err,s': 1,\n 'SH,sil,d': 1,\n 'ZH,CH,s': 1,\n 'NG, M, s': 1,\n 'D_': 1,\n 'Z, F, s': 1,\n 'T, SH, s': 1,\n 'D,sil, d': 1,\n 'L, W, s': 1,\n 'ER1, sil, d': 1,\n 'AO1, EH, s': 1,\n 'Z, T, s': 1,\n 'AO0, AW, s': 1,\n 'EY0, AE, s': 1,\n 'P,K,s': 1,\n 'L,EH0,s': 1,\n 'UW1,W,s': 1,\n 'AY1,IH1,s': 1,\n 'AO2,AE2,s': 1,\n 'N,P,s': 1,\n 'W,R,s': 1,\n 'UW2,AH0,s': 1,\n 'EH2,AE2,s': 1,\n 'ER1, UW, s': 1,\n 'UH1, IH, s': 1,\n 'SH, T, s': 1,\n 'IY0, Y, s': 1,\n 'AO1, AW, s': 1,\n 'G, HH, s': 1,\n 'D, ER, s': 1,\n 'IH1, R, s': 1,\n 'R, IH, s': 1,\n 'D, sil, D': 1,\n 'AH0,L,s': 1,\n 'L,IY0,s': 1,\n 'G,err,s': 1,\n 'OY1,OW1,s': 1,\n 'T,DH,s': 1,\n 'G, err, s': 1,\n 'HH, K, s': 1,\n 'G,B,s': 1,\n 'EH1,UW1,s': 1,\n 'Y,IY,s': 1,\n 'AY2,sil,d': 1,\n 'EH2,ER2,s': 1,\n 'D,P,s': 1,\n 'B, R, s': 1,\n 'AE1,AA, s': 1,\n 'D, G, s': 1,\n 'AH1, OW, s': 1,\n 'EY1, AA, s': 1,\n 'TH, CH, s': 1,\n 'AY0, IY, s': 1,\n 'N, V, s': 1,\n 'HH, G, s': 1,\n 'Z, R, s': 1,\n 'AY2,IH2,s': 1,\n 'EH1,R,s': 1,\n 'AH1,UH1,s': 1,\n 'N,HH,s': 1,\n 'OW1,R,s': 1,\n 'sil,ER0,a': 1,\n 'AH2,IY2,s': 1,\n ...}"
     },
     "execution_count": 3,
     "metadata": {},
     "output_type": "execute_result"
    }
   ],
   "source": [
    "\n",
    "label_frequency = dict()\n",
    "for _, row in arctic_df.iterrows():\n",
    "    try:\n",
    "        labels = textgrid.TextGrid.fromFile(row['annotation_file_path'])\n",
    "        for interval in labels[1]:\n",
    "            if interval.mark in label_frequency:\n",
    "                label_frequency[interval.mark] += 1\n",
    "            else:\n",
    "                label_frequency[interval.mark] = 1\n",
    "    except ValueError as err:\n",
    "        print(row['annotation_file_path'], err)\n",
    "\n",
    "label_frequency = {key: value for key, value in sorted(label_frequency.items(), key=lambda item: item[1], reverse=True)}\n",
    "label_frequency\n",
    "\n"
   ]
  },
  {
   "cell_type": "code",
   "execution_count": 4,
   "metadata": {
    "pycharm": {
     "name": "#%%\n"
    }
   },
   "outputs": [],
   "source": [
    "def merge_dictionaries(first: dict, second: dict) -> dict:\n",
    "    for key, value in second.items():\n",
    "        if key in first:\n",
    "            first[key].extend(second[key])\n",
    "        else:\n",
    "            first[key] = second[key]\n",
    "    return first"
   ]
  },
  {
   "cell_type": "code",
   "execution_count": 5,
   "metadata": {
    "pycharm": {
     "name": "#%%\n"
    }
   },
   "outputs": [
    {
     "name": "stdout",
     "output_type": "stream",
     "text": [
      "2.22363\n",
      "3.55456\n"
     ]
    }
   ],
   "source": [
    "data = dict()\n",
    "for index, row in arctic_df.iterrows():\n",
    "    try:\n",
    "        raw = get_phone_fragments(\n",
    "            audio_file_path=row['wav_file_path'],\n",
    "            annotation_file_path=row['annotation_file_path'],\n",
    "            arpabet_phone_code=['AH0', 'AH1', 'IH0', 'IH1']\n",
    "        )\n",
    "        data = merge_dictionaries(data, raw)\n",
    "    except ValueError as err:\n",
    "        print(err)\n"
   ]
  },
  {
   "cell_type": "code",
   "execution_count": 6,
   "metadata": {
    "pycharm": {
     "name": "#%%\n"
    }
   },
   "outputs": [
    {
     "data": {
      "text/plain": "6663"
     },
     "execution_count": 6,
     "metadata": {},
     "output_type": "execute_result"
    }
   ],
   "source": [
    "len(data['AH0'])"
   ]
  },
  {
   "cell_type": "markdown",
   "source": [
    "## Train-Test splitting"
   ],
   "metadata": {
    "collapsed": false,
    "pycharm": {
     "name": "#%% md\n"
    }
   }
  },
  {
   "cell_type": "code",
   "execution_count": 7,
   "outputs": [],
   "source": [
    "import random\n",
    "from sklearn.model_selection import train_test_split"
   ],
   "metadata": {
    "collapsed": false,
    "pycharm": {
     "name": "#%%\n"
    }
   }
  },
  {
   "cell_type": "code",
   "execution_count": 8,
   "outputs": [],
   "source": [
    "ah_utterances = random.sample(data['AH0'], 100)\n",
    "ah_utterances.extend(random.sample(data['AH1'], 100))\n",
    "ah_train, ah_test = train_test_split(ah_utterances, test_size=0.2, random_state=42)"
   ],
   "metadata": {
    "collapsed": false,
    "pycharm": {
     "name": "#%%\n"
    }
   }
  },
  {
   "cell_type": "code",
   "execution_count": 9,
   "outputs": [],
   "source": [
    "ih_utterances = random.sample(data['IH0'], 100)\n",
    "ih_utterances.extend(random.sample(data['IH1'], 100))\n",
    "ih_train, ih_test = train_test_split(ih_utterances, test_size=0.2, random_state=42)"
   ],
   "metadata": {
    "collapsed": false,
    "pycharm": {
     "name": "#%%\n"
    }
   }
  },
  {
   "cell_type": "markdown",
   "metadata": {
    "pycharm": {
     "name": "#%% md\n"
    }
   },
   "source": [
    "## Feature Extraction"
   ]
  },
  {
   "cell_type": "code",
   "execution_count": 10,
   "metadata": {
    "pycharm": {
     "name": "#%%\n"
    }
   },
   "outputs": [],
   "source": [
    "%matplotlib inline\n",
    "\n",
    "import numpy as np\n",
    "import librosa\n",
    "import itertools\n",
    "import librosa.display\n",
    "import matplotlib.pyplot as plt\n",
    "from sklearn.mixture import GaussianMixture\n",
    "\n",
    "from IPython.display import Audio\n",
    "from librosa.feature import mfcc\n",
    "\n",
    "sample_rate = 44100"
   ]
  },
  {
   "cell_type": "code",
   "execution_count": 11,
   "metadata": {
    "pycharm": {
     "name": "#%%\n"
    }
   },
   "outputs": [],
   "source": [
    "def unpack_raw_in_float32(in_data: bytes) -> np.ndarray:\n",
    "    max_int16_value = 2 ** 15\n",
    "    data = np.frombuffer(in_data, np.int16)\n",
    "    return data.astype(np.float32) / max_int16_value\n",
    "\n",
    "\n",
    "def get_mfcc(in_data: np.float32, freq_rate: int, n_fft: int, n_mfcc: int, n_mel: int) -> np.ndarray:\n",
    "    return mfcc(y=in_data, sr=freq_rate, n_mfcc=n_mfcc, n_fft=n_fft, n_mels=n_mel)\n",
    "\n",
    "\n",
    "def get_deltas(in_data: np.ndarray, width: int) -> tuple:\n",
    "    deltas = librosa.feature.delta(in_data, width=width, order=2)\n",
    "    double_deltas = librosa.feature.delta(deltas, width=width, order=2)\n",
    "    return deltas, double_deltas\n",
    "\n",
    "\n",
    "def pack_data(mfccs: np.ndarray, deltas: np.ndarray, double_deltas: np.ndarray) -> np.ndarray:\n",
    "    return np.hstack((mfccs, deltas, double_deltas))\n"
   ]
  },
  {
   "cell_type": "code",
   "execution_count": 12,
   "outputs": [],
   "source": [
    "def feature_extractor(raw_audio: bytes) -> np.ndarray:\n",
    "    unpacked = unpack_raw_in_float32(raw_audio)\n",
    "    mfcc_s = get_mfcc(unpacked, freq_rate=sample_rate, n_fft=1024, n_mfcc=5, n_mel=30)\n",
    "    mfcc_s = np.swapaxes(mfcc_s, 0, 1)\n",
    "    deltas = get_deltas(mfcc_s, 3)\n",
    "    return pack_data(mfcc_s, *deltas)\n",
    "\n",
    "\n",
    "def feature_collector(dataset: list) -> np.ndarray:\n",
    "    features = np.asarray(())\n",
    "    for raw_audio in dataset:\n",
    "        feature_vector = feature_extractor(raw_audio)\n",
    "        if features.size == 0:\n",
    "            features = feature_vector\n",
    "        else:\n",
    "            features = np.vstack((features, feature_vector))\n",
    "\n",
    "    return features\n"
   ],
   "metadata": {
    "collapsed": false,
    "pycharm": {
     "name": "#%%\n"
    }
   }
  },
  {
   "cell_type": "code",
   "execution_count": 13,
   "outputs": [],
   "source": [
    "ah_features = feature_collector(ah_train)\n",
    "ih_features = feature_collector(ih_train)"
   ],
   "metadata": {
    "collapsed": false,
    "pycharm": {
     "name": "#%%\n"
    }
   }
  },
  {
   "cell_type": "markdown",
   "source": [
    "## Hyper parameters tuning"
   ],
   "metadata": {
    "collapsed": false,
    "pycharm": {
     "name": "#%% md\n"
    }
   }
  },
  {
   "cell_type": "code",
   "execution_count": 44,
   "outputs": [
    {
     "data": {
      "text/plain": "<Figure size 576x432 with 2 Axes>",
      "image/png": "[encoded data removed]"
     },
     "metadata": {
      "needs_background": "light"
     },
     "output_type": "display_data"
    }
   ],
   "source": [
    "from scipy import linalg\n",
    "import matplotlib.pyplot as plt\n",
    "import matplotlib as mpl\n",
    "\n",
    "lowest_bic = np.infty\n",
    "bic = list()\n",
    "n_components_range = range(3, 40)\n",
    "cv_types = [\"diag\", \"full\"]\n",
    "X = ah_features\n",
    "for cv_type in cv_types:\n",
    "    for n_components in n_components_range:\n",
    "        try:\n",
    "            # Fit a Gaussian mixture with EM\n",
    "            gmm = GaussianMixture(\n",
    "                n_components=n_components, covariance_type=cv_type\n",
    "            )\n",
    "            gmm.fit(ah_features)\n",
    "            bic.append(gmm.bic(ah_features))\n",
    "            if bic[-1] < lowest_bic:\n",
    "                lowest_bic = bic[-1]\n",
    "                best_gmm = gmm\n",
    "\n",
    "        except ValueError as err:\n",
    "            print(cv_type, n_components)\n",
    "\n",
    "bic = np.array(bic)\n",
    "color_iter = itertools.cycle([\"navy\", \"cornflowerblue\", \"darkorange\"])\n",
    "clf = best_gmm\n",
    "bars = []\n",
    "\n",
    "# Plot the BIC scores\n",
    "plt.figure(figsize=(8, 6))\n",
    "spl = plt.subplot(2, 1, 1)\n",
    "for i, (cv_type, color) in enumerate(zip(cv_types, color_iter)):\n",
    "    xpos = np.array(n_components_range) + 0.2 * (i - 2)\n",
    "    bars.append(\n",
    "        plt.bar(\n",
    "            xpos,\n",
    "            bic[i * len(n_components_range) : (i + 1) * len(n_components_range)],\n",
    "            width=0.2,\n",
    "            color=color,\n",
    "        )\n",
    "    )\n",
    "plt.xticks(n_components_range)\n",
    "plt.ylim([bic.min() * 1.01 - 0.01 * bic.max(), bic.max()])\n",
    "plt.title(\"BIC score per model\")\n",
    "xpos = (\n",
    "    np.mod(bic.argmin(), len(n_components_range))\n",
    "    + 0.65\n",
    "    + 0.2 * np.floor(bic.argmin() / len(n_components_range))\n",
    ")\n",
    "plt.text(xpos, bic.min() * 0.97 + 0.03 * bic.max(), \"*\", fontsize=14)\n",
    "spl.set_xlabel(\"Number of components\")\n",
    "spl.legend([b[0] for b in bars], cv_types)\n",
    "\n",
    "# Plot the winner\n",
    "splot = plt.subplot(2, 1, 2)\n",
    "Y_ = clf.predict(X)\n",
    "for i, (mean, cov, color) in enumerate(zip(clf.means_, clf.covariances_, color_iter)):\n",
    "    v, w = linalg.eigh(cov)\n",
    "    if not np.any(Y_ == i):\n",
    "        continue\n",
    "    plt.scatter(X[Y_ == i, 0], X[Y_ == i, 1], 0.8, color=color)\n",
    "\n",
    "    # Plot an ellipse to show the Gaussian component\n",
    "    angle = np.arctan2(w[0][1], w[0][0])\n",
    "    angle = 180.0 * angle / np.pi  # convert to degrees\n",
    "    v = 2.0 * np.sqrt(2.0) * np.sqrt(v)\n",
    "    ell = mpl.patches.Ellipse(mean, v[0], v[1], 180.0 + angle, color=color)\n",
    "    ell.set_clip_box(splot.bbox)\n",
    "    ell.set_alpha(0.5)\n",
    "    splot.add_artist(ell)\n",
    "\n",
    "plt.xticks(())\n",
    "plt.yticks(())\n",
    "plt.title(\n",
    "    f\"Selected GMM: {best_gmm.covariance_type} model, \"\n",
    "    f\"{best_gmm.n_components} components\"\n",
    ")\n",
    "plt.subplots_adjust(hspace=0.35, bottom=0.02)\n",
    "plt.show()"
   ],
   "metadata": {
    "collapsed": false,
    "pycharm": {
     "name": "#%%\n"
    }
   }
  },
  {
   "cell_type": "code",
   "execution_count": 45,
   "outputs": [],
   "source": [
    "ih_gmm = GaussianMixture(n_components=3, max_iter=200, covariance_type='full', n_init=3)\n",
    "ah_gmm = GaussianMixture(n_components=3, max_iter=200, covariance_type='full', n_init=3)"
   ],
   "metadata": {
    "collapsed": false,
    "pycharm": {
     "name": "#%%\n"
    }
   }
  },
  {
   "cell_type": "code",
   "execution_count": 46,
   "outputs": [
    {
     "data": {
      "text/plain": "GaussianMixture(max_iter=200, n_components=3, n_init=3)"
     },
     "execution_count": 46,
     "metadata": {},
     "output_type": "execute_result"
    }
   ],
   "source": [
    "ah_gmm.fit(ah_features)\n",
    "ih_gmm.fit(ih_features)"
   ],
   "metadata": {
    "collapsed": false,
    "pycharm": {
     "name": "#%%\n"
    }
   }
  },
  {
   "cell_type": "code",
   "execution_count": 47,
   "outputs": [],
   "source": [
    "def recognize_phone(feature_vector: np.ndarray):\n",
    "    is_ah_scores = np.array(ah_gmm.score(feature_vector))\n",
    "    is_ah_log_likelihood = is_ah_scores.sum()\n",
    "\n",
    "    is_ih_scores = np.array(ih_gmm.score(feature_vector))\n",
    "    is_ih_log_likelihood = is_ih_scores.sum()\n",
    "    if round(is_ah_log_likelihood, 3) > round(is_ih_log_likelihood, 3):\n",
    "        return True\n",
    "    else:\n",
    "        return False\n"
   ],
   "metadata": {
    "collapsed": false,
    "pycharm": {
     "name": "#%%\n"
    }
   }
  },
  {
   "cell_type": "code",
   "execution_count": 49,
   "outputs": [
    {
     "name": "stdout",
     "output_type": "stream",
     "text": [
      "IH: 0.9\n",
      "AH: 0.1\n"
     ]
    }
   ],
   "source": [
    "ih = 0\n",
    "ah = 0\n",
    "for test_audio in ih_test:\n",
    "    vector = feature_extractor(test_audio)\n",
    "    if recognize_phone(vector):\n",
    "        ah += 1\n",
    "    else:\n",
    "        ih += 1\n",
    "print(f'IH: {(ih / len(ah_test))}')\n",
    "print(f'AH: {(ah / len(ah_test))}')"
   ],
   "metadata": {
    "collapsed": false,
    "pycharm": {
     "name": "#%%\n"
    }
   }
  },
  {
   "cell_type": "code",
   "execution_count": null,
   "metadata": {
    "pycharm": {
     "name": "#%%\n"
    }
   },
   "outputs": [],
   "source": [
    "waveform = data['IH0'][0]\n",
    "waveform = unpack_raw_in_float32(waveform)"
   ]
  },
  {
   "cell_type": "code",
   "execution_count": null,
   "metadata": {
    "pycharm": {
     "name": "#%%\n"
    }
   },
   "outputs": [],
   "source": [
    "plt.figure(figsize=(14, 5))\n",
    "librosa.display.waveplot(waveform, sample_rate)"
   ]
  },
  {
   "cell_type": "code",
   "execution_count": null,
   "metadata": {
    "pycharm": {
     "name": "#%%\n"
    }
   },
   "outputs": [],
   "source": [
    "Audio(waveform, rate=sample_rate)"
   ]
  },
  {
   "cell_type": "code",
   "execution_count": null,
   "outputs": [],
   "source": [
    "waveform.shape"
   ],
   "metadata": {
    "collapsed": false,
    "pycharm": {
     "name": "#%%\n"
    }
   }
  },
  {
   "cell_type": "code",
   "execution_count": null,
   "outputs": [],
   "source": [
    "# coeff = get_mfcc(waveform[:1024], sample_rate, 13, n_fft=525)\n",
    "#coeff = get_mfcc(waveform[:1024], sample_rate, 512, 13)\n",
    "coeff = mfcc(y=waveform[:1024], sr=sample_rate, n_fft=1024, n_mfcc=13, n_mels=30, center=False)\n",
    "coeff"
   ],
   "metadata": {
    "collapsed": false,
    "pycharm": {
     "name": "#%%\n"
    }
   }
  }
 ],
 "metadata": {
  "kernelspec": {
   "display_name": "Python 3 (ipykernel)",
   "language": "python",
   "name": "python3"
  },
  "language_info": {
   "codemirror_mode": {
    "name": "ipython",
    "version": 3
   },
   "file_extension": ".py",
   "mimetype": "text/x-python",
   "name": "python",
   "nbconvert_exporter": "python",
   "pygments_lexer": "ipython3",
   "version": "3.8.10"
  }
 },
 "nbformat": 4,
 "nbformat_minor": 1
}