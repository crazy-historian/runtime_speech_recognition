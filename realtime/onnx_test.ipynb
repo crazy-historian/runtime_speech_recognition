{
 "cells": [
  {
   "cell_type": "code",
   "execution_count": 6,
   "metadata": {
    "collapsed": true
   },
   "outputs": [
    {
     "data": {
      "text/plain": "[array([[[-1.4384276, -0.8755864, -1.0610801]]], dtype=float32)]"
     },
     "execution_count": 6,
     "metadata": {},
     "output_type": "execute_result"
    }
   ],
   "source": [
    "import numpy as np\n",
    "import onnxruntime\n",
    "\n",
    "filepath = 'model_test.onnx'\n",
    "\n",
    "ort_session = onnxruntime.InferenceSession(filepath)\n",
    "input_name = ort_session.get_inputs()[0].name\n",
    "ort_inputs = {input_name: np.random.randn(1, 1, 1024).astype(np.float32)}\n",
    "ort_outs = ort_session.run(None, ort_inputs)\n",
    "ort_outs"
   ]
  }
 ],
 "metadata": {
  "kernelspec": {
   "display_name": "Python 3",
   "language": "python",
   "name": "python3"
  },
  "language_info": {
   "codemirror_mode": {
    "name": "ipython",
    "version": 2
   },
   "file_extension": ".py",
   "mimetype": "text/x-python",
   "name": "python",
   "nbconvert_exporter": "python",
   "pygments_lexer": "ipython2",
   "version": "2.7.6"
  }
 },
 "nbformat": 4,
 "nbformat_minor": 0
}
