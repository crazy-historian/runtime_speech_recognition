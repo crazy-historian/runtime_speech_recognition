{
 "cells": [
  {
   "cell_type": "code",
   "execution_count": 1,
   "outputs": [
    {
     "name": "stderr",
     "output_type": "stream",
     "text": [
      "/home/maxim/VisibleSpeech/PhonemeRecognizer/venv/lib/python3.8/site-packages/torchaudio/backend/utils.py:53: UserWarning: \"sox\" backend is being deprecated. The default backend will be changed to \"sox_io\" backend in 0.8.0 and \"sox\" backend will be removed in 0.9.0. Please migrate to \"sox_io\" backend. Please refer to https://github.com/pytorch/audio/issues/903 for the detail.\n",
      "  warnings.warn(\n"
     ]
    },
    {
     "name": "stdout",
     "output_type": "stream",
     "text": [
      "1.7.1+cu110\n",
      "0.7.2\n"
     ]
    },
    {
     "name": "stderr",
     "output_type": "stream",
     "text": [
      "/home/maxim/VisibleSpeech/PhonemeRecognizer/venv/lib/python3.8/site-packages/pydub/utils.py:170: RuntimeWarning: Couldn't find ffmpeg or avconv - defaulting to ffmpeg, but may not work\n",
      "  warn(\"Couldn't find ffmpeg or avconv - defaulting to ffmpeg, but may not work\", RuntimeWarning)\n"
     ]
    }
   ],
   "source": [
    "import torch\n",
    "import torchaudio\n",
    "import torchaudio.transforms as T\n",
    "import torch.optim as optim\n",
    "from torch.utils.data import DataLoader\n",
    "\n",
    "\n",
    "import matplotlib.pyplot as plt\n",
    "\n",
    "from IPython.display import Audio, display\n",
    "from data.datasets import AudioData, AudioFragment\n",
    "from tqdm.notebook import tqdm\n",
    "\n",
    "print(torch.__version__)\n",
    "print(torchaudio.__version__)"
   ],
   "metadata": {
    "collapsed": false,
    "pycharm": {
     "name": "#%%\n"
    }
   }
  },
  {
   "cell_type": "markdown",
   "source": [
    "# CUDA"
   ],
   "metadata": {
    "collapsed": false,
    "pycharm": {
     "name": "#%% md\n"
    }
   }
  },
  {
   "cell_type": "code",
   "execution_count": 2,
   "outputs": [
    {
     "name": "stdout",
     "output_type": "stream",
     "text": [
      "cuda\n"
     ]
    }
   ],
   "source": [
    "device = torch.device(\"cuda\" if torch.cuda.is_available() else \"cpu\")\n",
    "print(device)"
   ],
   "metadata": {
    "collapsed": false,
    "pycharm": {
     "name": "#%%\n"
    }
   }
  },
  {
   "cell_type": "markdown",
   "source": [
    "# Wrapping for dataset"
   ],
   "metadata": {
    "collapsed": false,
    "pycharm": {
     "name": "#%% md\n"
    }
   }
  },
  {
   "cell_type": "code",
   "execution_count": 3,
   "outputs": [],
   "source": [
    "import pandas as pd\n",
    "import numpy as np\n",
    "import textgrid\n",
    "import torchaudio\n",
    "import torch\n",
    "from pathlib import Path\n",
    "from pydub import AudioSegment\n",
    "from torch.utils.data import Dataset\n",
    "\n",
    "import torch.nn.functional as F\n",
    "from dataclasses import dataclass, astuple\n",
    "from typing import Optional, Union, List, Callable"
   ],
   "metadata": {
    "collapsed": false,
    "pycharm": {
     "name": "#%%\n"
    }
   }
  },
  {
   "cell_type": "code",
   "execution_count": 4,
   "outputs": [],
   "source": [
    "class ArcticDataset(Dataset):\n",
    "    \"\"\" ARCTIC L2 dataset \"\"\"\n",
    "\n",
    "    def __init__(self,\n",
    "                 root_dir: str,\n",
    "                 usage: str,\n",
    "                 padding: int = 0,\n",
    "                 fraction: float = 0.7,\n",
    "                 transform: Callable = None,\n",
    "                 phone_codes: Union[List[str], str] = None,\n",
    "                 gender: Optional[str] = None,\n",
    "                 dialect: Optional[List[str]] = None):\n",
    "        self.root_dir = root_dir\n",
    "        self.transform = transform\n",
    "        self.padding = padding\n",
    "        self.phone_codes = phone_codes\n",
    "        self.speaker_description = {\n",
    "            'ABA': ['Arabic', 'M'],\n",
    "            'SKA': ['Arabic', 'F'],\n",
    "            'YBAA': ['Arabic', 'M'],\n",
    "            'ZHAA': ['Arabic', 'F'],\n",
    "            'BWC': ['Mandarin', 'M'],\n",
    "            'LXC': ['Mandarin', 'F'],\n",
    "            'NCC': ['Mandarin', 'F'],\n",
    "            'TXHC': ['Mandarin', 'M'],\n",
    "            'ASI': ['Hindi', 'M'],\n",
    "            'RRBI': ['Hindi', 'M'],\n",
    "            'SVBI': ['Hindi', 'F'],\n",
    "            'TNI': ['Hindi', 'F'],\n",
    "            'HJK': ['Korean', 'F'],\n",
    "            'HKK': ['Korean', 'M'],\n",
    "            'YDCK': ['Korean', 'F'],\n",
    "            'YKWK': ['Korean', 'M'],\n",
    "            'EBVS': ['Spanish', 'M'],\n",
    "            'ERMS': ['Spanish', 'M'],\n",
    "            'MBMPS': ['Spanish', 'F'],\n",
    "            'NJS': ['Spanish', 'F'],\n",
    "            'HQTV': ['Vietnamese', 'M'],\n",
    "            'PNV': ['Vietnamese', 'F'],\n",
    "            'THV': ['Vietnamese', 'F'],\n",
    "            'TLV': ['Vietnamese', 'M']\n",
    "        }\n",
    "        self.description_table = self._prepare_description(fraction)\n",
    "        self.description_table = self._filter_description_table(usage, gender, dialect)\n",
    "        self.audio_fragments = self._get_audio_fragments()\n",
    "\n",
    "    def _prepare_description(self, fraction: float) -> pd.DataFrame:\n",
    "        # if Path('./data/arctic_description.csv').is_file():\n",
    "        #     return pd.read_csv('./data/arctic_description.csv')\n",
    "        # else:\n",
    "        table = list()\n",
    "        for speaker_dir in Path(self.root_dir).iterdir():\n",
    "            table_rows = list()\n",
    "            for annotation_file in Path(speaker_dir, 'annotation').iterdir():\n",
    "                audio_dir_path = str(Path(speaker_dir, 'wav'))\n",
    "                audio_file = Path(audio_dir_path, f'{annotation_file.stem}.wav')\n",
    "                table_rows.append([\n",
    "                    speaker_dir.stem,\n",
    "                    self.speaker_description[speaker_dir.stem][0],\n",
    "                    self.speaker_description[speaker_dir.stem][1],\n",
    "                    str(annotation_file),\n",
    "                    str(audio_file)\n",
    "                ])\n",
    "            table.extend(table_rows)\n",
    "\n",
    "        df = pd.DataFrame(data=table, columns=['nickname', 'l1', 'gender', 'labels_file_path', 'wav_file_path'])\n",
    "        print(len(df))\n",
    "        df['usage'] = 'train'\n",
    "        df.loc[df.sample(frac=fraction).index.to_list(), 'usage'] = 'test'\n",
    "        df.to_csv('./data/arctic_description.csv', index=False)\n",
    "\n",
    "        return df\n",
    "\n",
    "    def _filter_description_table(self, usage: str, gender: Optional[str], dialect: Optional[str]) -> pd.DataFrame:\n",
    "        self.description_table = self.description_table.loc[self.description_table['usage'] == usage]\n",
    "\n",
    "        if gender is not None:\n",
    "            self.description_table = self.description_table.loc[self.description_table['gender'] == gender]\n",
    "\n",
    "        if dialect is not None:\n",
    "            dialects = self.description_table['l1'].isin(dialect)\n",
    "            self.description_table = self.description_table[dialects]\n",
    "\n",
    "        return self.description_table\n",
    "\n",
    "    def _get_audio_fragments(self) -> list:\n",
    "        fragments = list()\n",
    "        self.description_table = self.description_table.sample(frac=1.0)\n",
    "        try:\n",
    "            for _, file in self.description_table.iterrows():\n",
    "                labels = textgrid.TextGrid.fromFile(file['labels_file_path'])\n",
    "                timings = list()\n",
    "                for interval in labels[0]:\n",
    "                    if interval.mark is not None and len(interval.mark) > 3:\n",
    "                        if self.phone_codes is None or interval.mark in self.phone_codes:\n",
    "                            start = interval.minTime\n",
    "                            end = interval.maxTime\n",
    "                            timings.append((interval.mark, start, end))\n",
    "                for timing in timings:\n",
    "                    fragments.append(\n",
    "                        AudioFragment(\n",
    "                            source_file=file['wav_file_path'],\n",
    "                            label=timing[0],\n",
    "                            t1=timing[1],\n",
    "                            t2=timing[2]\n",
    "                        )\n",
    "                    )\n",
    "        except ValueError:\n",
    "            ...\n",
    "        return fragments\n",
    "\n",
    "    def _load_audio_fragment(self, audio_fragment: AudioFragment) -> AudioData:\n",
    "        metadata, encoding = torchaudio.info(audio_fragment.source_file)\n",
    "        frame_rate = int(metadata.rate)\n",
    "        sample_width = encoding.bits_per_sample\n",
    "        t1 = round(audio_fragment.t1 * frame_rate)\n",
    "        t2 = round(audio_fragment.t2 * frame_rate)\n",
    "        data, _ = torchaudio.load(audio_fragment.source_file)\n",
    "        data = data[:, t1:t2]\n",
    "        if self.padding != 0:\n",
    "            new_shape = self.padding - data.shape[1]\n",
    "            return AudioData(\n",
    "                data=F.pad(data, (0, new_shape), 'constant', 0.0),\n",
    "                label=audio_fragment.label,\n",
    "                frame_rate=frame_rate,\n",
    "                sample_width=sample_width\n",
    "            )\n",
    "        else:\n",
    "            return AudioData(\n",
    "                data=data,\n",
    "                label=audio_fragment.label,\n",
    "                frame_rate=frame_rate,\n",
    "                sample_width=sample_width\n",
    "            )\n",
    "\n",
    "    def __len__(self) -> int:\n",
    "        return len(self.audio_fragments)\n",
    "\n",
    "    def __getitem__(self, item: int) -> AudioData:\n",
    "        if self.transform:\n",
    "            audio_data = self._load_audio_fragment(self.audio_fragments[item])\n",
    "            audio_data.data = self.transform(audio_data.data)\n",
    "            return audio_data\n",
    "        return self._load_audio_fragment(self.audio_fragments[item])"
   ],
   "metadata": {
    "collapsed": false,
    "pycharm": {
     "name": "#%%\n"
    }
   }
  },
  {
   "cell_type": "code",
   "execution_count": 9,
   "outputs": [
    {
     "name": "stdout",
     "output_type": "stream",
     "text": [
      "3599\n",
      "3599\n",
      "Length of the train dataset 2005\n",
      "Length of the test dataset 603\n",
      "AudioData(data=tensor([[-0.0109, -0.0102, -0.0096,  ...,  0.0000,  0.0000,  0.0000]]), label='from', frame_rate=44100, sample_width=16)\n",
      "torch.Size([1, 44100])\n"
     ]
    }
   ],
   "source": [
    "arctic_dataset_train = ArcticDataset(usage='train', root_dir='//media/maxim/Programming/voice_datasets/arctic/l2arctic_release_v5.0/data',\n",
    "                                    phone_codes=['that', 'were', 'with', 'they', 'there', 'from', 'like', 'more', 'face', 'this', 'have', 'them', 'what', 'then', 'been', 'come', 'into', 'only', 'will'],\n",
    "                                    padding=44100,\n",
    "                                     fraction=0.2)\n",
    "\n",
    "arctic_dataset_test = ArcticDataset(usage='test', root_dir='/media/maxim/Programming/voice_datasets/arctic/l2arctic_release_v5.0/data',\n",
    "                                      phone_codes=['that', 'were', 'with', 'they', 'there', 'from', 'like', 'more', 'face', 'this', 'have', 'them', 'what', 'then', 'been', 'come', 'into', 'only', 'will'],\n",
    "                                     padding=44100,\n",
    "                                    fraction=0.2)\n",
    "\n",
    "print(f'Length of the train dataset {len(arctic_dataset_train)}')\n",
    "print(f'Length of the test dataset {len(arctic_dataset_test)}')\n",
    "print(arctic_dataset_train[0])\n",
    "\n",
    "arctic_waveform = arctic_dataset_train[0].data\n",
    "arctic_framerate = arctic_dataset_train[0].frame_rate\n",
    "print(arctic_waveform.shape)"
   ],
   "metadata": {
    "collapsed": false,
    "pycharm": {
     "name": "#%%\n"
    }
   }
  },
  {
   "cell_type": "code",
   "execution_count": 10,
   "outputs": [
    {
     "data": {
      "text/plain": "<Figure size 720x360 with 1 Axes>",
      "image/png": "[encoded data removed]"
     },
     "metadata": {
      "needs_background": "light"
     },
     "output_type": "display_data"
    }
   ],
   "source": [
    "def find_distribution(dataset):\n",
    "    labels_dict = dict()\n",
    "    for record in dataset:\n",
    "        if record.label not in labels_dict:\n",
    "            labels_dict[record.label] = 1\n",
    "        else:\n",
    "            labels_dict[record.label] += 1\n",
    "\n",
    "    return labels_dict\n",
    "\n",
    "\n",
    "train_labels_dict = find_distribution(arctic_dataset_train)\n",
    "test_labels_dict = find_distribution(arctic_dataset_test)\n",
    "\n",
    "train_labels_dict = {k: v for k, v in sorted(train_labels_dict.items(), key=lambda item: item[0])}\n",
    "test_labels_dict = {k: v for k, v in sorted(test_labels_dict.items(), key=lambda item: item[0])}\n",
    "\n",
    "plt.figure(figsize=(10, 5))\n",
    "plt.bar(train_labels_dict.keys(), train_labels_dict.values(), width=0.8)\n",
    "plt.show()"
   ],
   "metadata": {
    "collapsed": false,
    "pycharm": {
     "name": "#%%\n"
    }
   }
  },
  {
   "cell_type": "code",
   "execution_count": 66,
   "outputs": [
    {
     "data": {
      "text/plain": "<Figure size 720x360 with 1 Axes>",
      "image/png": "[encoded data removed]"
     },
     "metadata": {
      "needs_background": "light"
     },
     "output_type": "display_data"
    }
   ],
   "source": [
    "plt.figure(figsize=(10, 5))\n",
    "plt.bar(test_labels_dict.keys(), test_labels_dict.values(), width=0.8)\n",
    "plt.show()"
   ],
   "metadata": {
    "collapsed": false,
    "pycharm": {
     "name": "#%%\n"
    }
   }
  },
  {
   "cell_type": "code",
   "execution_count": 13,
   "outputs": [
    {
     "data": {
      "text/plain": "['been',\n 'come',\n 'face',\n 'from',\n 'have',\n 'into',\n 'like',\n 'more',\n 'only',\n 'that',\n 'them',\n 'then',\n 'there',\n 'they',\n 'this',\n 'were',\n 'what',\n 'will',\n 'with']"
     },
     "execution_count": 13,
     "metadata": {},
     "output_type": "execute_result"
    }
   ],
   "source": [
    "labels = sorted(list(set(datapoint.label for datapoint in arctic_dataset_train)))\n",
    "labels"
   ],
   "metadata": {
    "collapsed": false,
    "pycharm": {
     "name": "#%%\n"
    }
   }
  },
  {
   "cell_type": "code",
   "execution_count": 14,
   "outputs": [
    {
     "data": {
      "text/plain": "19"
     },
     "execution_count": 14,
     "metadata": {},
     "output_type": "execute_result"
    }
   ],
   "source": [
    "len(labels)"
   ],
   "metadata": {
    "collapsed": false,
    "pycharm": {
     "name": "#%%\n"
    }
   }
  },
  {
   "cell_type": "markdown",
   "source": [
    "# Transformation"
   ],
   "metadata": {
    "collapsed": false,
    "pycharm": {
     "name": "#%% md\n"
    }
   }
  },
  {
   "cell_type": "code",
   "execution_count": 11,
   "outputs": [
    {
     "name": "stdout",
     "output_type": "stream",
     "text": [
      "that\n"
     ]
    },
    {
     "data": {
      "text/plain": "<IPython.lib.display.Audio object>",
      "text/html": "\n                <audio  controls=\"controls\" >\n                    <source src=\"data:audio/wav;base64,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\" type=\"audio/wav\" />\n                    Your browser does not support the audio element.\n                </audio>\n              "
     },
     "metadata": {},
     "output_type": "display_data"
    },
    {
     "data": {
      "text/plain": "<Figure size 432x288 with 1 Axes>",
      "image/png": "[encoded data removed]"
     },
     "metadata": {
      "needs_background": "light"
     },
     "output_type": "display_data"
    }
   ],
   "source": [
    "transform = T.Resample(orig_freq=arctic_framerate, new_freq=8000)\n",
    "\n",
    "item = 50\n",
    "timit_waveform = arctic_dataset_train[item].data\n",
    "print(arctic_dataset_train[item].label)\n",
    "\n",
    "transformed = transform(timit_waveform)\n",
    "display(Audio(transformed.numpy(), rate=8000))\n",
    "plt.plot(transformed.t().numpy());"
   ],
   "metadata": {
    "collapsed": false,
    "pycharm": {
     "name": "#%%\n"
    }
   }
  },
  {
   "cell_type": "markdown",
   "source": [
    "# Utils functions"
   ],
   "metadata": {
    "collapsed": false,
    "pycharm": {
     "name": "#%% md\n"
    }
   }
  },
  {
   "cell_type": "code",
   "execution_count": 15,
   "outputs": [
    {
     "name": "stdout",
     "output_type": "stream",
     "text": [
      "there --> tensor(12) --> there\n",
      "Feature batch shape: torch.Size([256, 1, 44100])\n",
      "Labels batch shape: torch.Size([256])\n",
      "1\n"
     ]
    }
   ],
   "source": [
    "def label_to_index(phone):\n",
    "    return torch.tensor(labels.index(phone))\n",
    "\n",
    "\n",
    "def index_to_label(index):\n",
    "    return labels[index]\n",
    "\n",
    "\n",
    "phone_start = \"there\"\n",
    "index = label_to_index(phone_start)\n",
    "word_recovered = index_to_label(index)\n",
    "\n",
    "print(phone_start, \"-->\", index, \"-->\", word_recovered)\n",
    "\n",
    "\n",
    "def pad_sequence(batch):\n",
    "    batch = [item.t() for item in batch]\n",
    "    batch = torch.nn.utils.rnn.pad_sequence(batch, batch_first=True, padding_value=0.)\n",
    "    return batch.permute(0, 2, 1)\n",
    "\n",
    "\n",
    "def collate_fn(batch):\n",
    "    tensors, targets = [], []\n",
    "\n",
    "    for waveform, label, *_ in batch:\n",
    "        tensors += [waveform]\n",
    "        targets += [label_to_index(label)]\n",
    "\n",
    "    tensors = pad_sequence(tensors)\n",
    "    targets = torch.stack(targets)\n",
    "\n",
    "    return tensors, targets\n",
    "\n",
    "\n",
    "batch_size = 256\n",
    "\n",
    "if device == \"cuda\":\n",
    "    num_workers = 1\n",
    "    pin_memory = True\n",
    "else:\n",
    "    num_workers = 0\n",
    "    pin_memory = False\n",
    "\n",
    "train_loader = torch.utils.data.DataLoader(\n",
    "    arctic_dataset_train,\n",
    "    batch_size=batch_size,\n",
    "    shuffle=True,\n",
    "    collate_fn=collate_fn,\n",
    "    num_workers=num_workers,\n",
    "    pin_memory=pin_memory,\n",
    ")\n",
    "test_loader = torch.utils.data.DataLoader(\n",
    "    arctic_dataset_test,\n",
    "    batch_size=batch_size,\n",
    "    shuffle=False,\n",
    "    drop_last=False,\n",
    "    collate_fn=collate_fn,\n",
    "    num_workers=num_workers,\n",
    "    pin_memory=pin_memory,\n",
    ")\n",
    "\n",
    "train_features, train_labels = next(iter(train_loader))\n",
    "print(f\"Feature batch shape: {train_features.size()}\")\n",
    "print(f\"Labels batch shape: {train_labels.size()}\")\n",
    "print(transformed.shape[0])"
   ],
   "metadata": {
    "collapsed": false,
    "pycharm": {
     "name": "#%%\n"
    }
   }
  },
  {
   "cell_type": "markdown",
   "source": [
    "# M Models"
   ],
   "metadata": {
    "collapsed": false,
    "pycharm": {
     "name": "#%% md\n"
    }
   }
  },
  {
   "cell_type": "code",
   "execution_count": 16,
   "outputs": [
    {
     "name": "stdout",
     "output_type": "stream",
     "text": [
      "M11(\n",
      "  (conv1): Conv1d(1, 64, kernel_size=(80,), stride=(4,))\n",
      "  (bn1): BatchNorm1d(64, eps=1e-05, momentum=0.1, affine=True, track_running_stats=True)\n",
      "  (pool1): MaxPool1d(kernel_size=4, stride=4, padding=0, dilation=1, ceil_mode=False)\n",
      "  (conv_layers_2): MBlock(\n",
      "    (layers): Sequential(\n",
      "      (0): Conv1d(64, 64, kernel_size=(3,), stride=(1,))\n",
      "      (1): BatchNorm1d(64, eps=1e-05, momentum=0.1, affine=True, track_running_stats=True)\n",
      "      (2): ReLU()\n",
      "      (3): Conv1d(64, 64, kernel_size=(3,), stride=(1,))\n",
      "      (4): BatchNorm1d(64, eps=1e-05, momentum=0.1, affine=True, track_running_stats=True)\n",
      "      (5): ReLU()\n",
      "    )\n",
      "  )\n",
      "  (pool2): MaxPool1d(kernel_size=4, stride=4, padding=0, dilation=1, ceil_mode=False)\n",
      "  (conv_layers_3): MBlock(\n",
      "    (layers): Sequential(\n",
      "      (0): Conv1d(64, 128, kernel_size=(3,), stride=(1,))\n",
      "      (1): BatchNorm1d(128, eps=1e-05, momentum=0.1, affine=True, track_running_stats=True)\n",
      "      (2): ReLU()\n",
      "      (3): Conv1d(128, 128, kernel_size=(3,), stride=(1,))\n",
      "      (4): BatchNorm1d(128, eps=1e-05, momentum=0.1, affine=True, track_running_stats=True)\n",
      "      (5): ReLU()\n",
      "    )\n",
      "  )\n",
      "  (pool3): MaxPool1d(kernel_size=4, stride=4, padding=0, dilation=1, ceil_mode=False)\n",
      "  (conv_layers_4): MBlock(\n",
      "    (layers): Sequential(\n",
      "      (0): Conv1d(128, 256, kernel_size=(3,), stride=(1,))\n",
      "      (1): BatchNorm1d(256, eps=1e-05, momentum=0.1, affine=True, track_running_stats=True)\n",
      "      (2): ReLU()\n",
      "      (3): Conv1d(256, 256, kernel_size=(3,), stride=(1,))\n",
      "      (4): BatchNorm1d(256, eps=1e-05, momentum=0.1, affine=True, track_running_stats=True)\n",
      "      (5): ReLU()\n",
      "      (6): Conv1d(256, 256, kernel_size=(3,), stride=(1,))\n",
      "      (7): BatchNorm1d(256, eps=1e-05, momentum=0.1, affine=True, track_running_stats=True)\n",
      "      (8): ReLU()\n",
      "    )\n",
      "  )\n",
      "  (pool4): MaxPool1d(kernel_size=4, stride=4, padding=0, dilation=1, ceil_mode=False)\n",
      "  (conv_layers_5): MBlock(\n",
      "    (layers): Sequential(\n",
      "      (0): Conv1d(256, 512, kernel_size=(3,), stride=(1,))\n",
      "      (1): BatchNorm1d(512, eps=1e-05, momentum=0.1, affine=True, track_running_stats=True)\n",
      "      (2): ReLU()\n",
      "      (3): Conv1d(512, 512, kernel_size=(3,), stride=(1,))\n",
      "      (4): BatchNorm1d(512, eps=1e-05, momentum=0.1, affine=True, track_running_stats=True)\n",
      "      (5): ReLU()\n",
      "    )\n",
      "  )\n",
      "  (fc1): Linear(in_features=512, out_features=19, bias=True)\n",
      ")\n",
      "Number of parameters: 1791059\n"
     ]
    }
   ],
   "source": [
    "from models.m_models import M11\n",
    "\n",
    "model = M11(n_input=transformed.shape[0], n_output=len(labels))\n",
    "model.to(device)\n",
    "print(model)\n",
    "\n",
    "\n",
    "def count_parameters(model):\n",
    "    return sum(p.numel() for p in model.parameters() if p.requires_grad)\n",
    "\n",
    "\n",
    "n = count_parameters(model)\n",
    "print(\"Number of parameters: %s\" % n)\n",
    "\n",
    "optimizer = optim.Adam(model.parameters(), lr=0.01, weight_decay=0.0001)\n",
    "scheduler = optim.lr_scheduler.StepLR(optimizer, step_size=20, gamma=0.1)"
   ],
   "metadata": {
    "collapsed": false,
    "pycharm": {
     "name": "#%%\n"
    }
   }
  },
  {
   "cell_type": "markdown",
   "source": [
    "# Train and Test"
   ],
   "metadata": {
    "collapsed": false,
    "pycharm": {
     "name": "#%% md\n"
    }
   }
  },
  {
   "cell_type": "code",
   "execution_count": 17,
   "outputs": [],
   "source": [
    "log_interval = 20\n",
    "n_epoch = 40\n",
    "\n",
    "pbar_update = 1 / (len(train_loader) + len(test_loader))\n",
    "losses = []\n",
    "\n",
    "\n",
    "def train(model, epoch, log_interval):\n",
    "    model.train()\n",
    "    for batch_idx, (data, target) in enumerate(train_loader):\n",
    "\n",
    "        data = data.to(device)\n",
    "\n",
    "        target = target.to(device)\n",
    "\n",
    "        data = transform(data)\n",
    "        output = model(data)\n",
    "\n",
    "        loss = F.nll_loss(output.squeeze(), target)\n",
    "\n",
    "        optimizer.zero_grad()\n",
    "        loss.backward()\n",
    "        optimizer.step()\n",
    "\n",
    "        pbar.update(pbar_update)\n",
    "\n",
    "        if batch_idx % log_interval == 0:\n",
    "            print(\n",
    "                f\"Train Epoch: {epoch} [{batch_idx * len(data)}/{len(train_loader.dataset)} ({100. * batch_idx / len(train_loader):.0f}%)]\\tLoss: {loss.item():.6f}\")\n",
    "\n",
    "        losses.append(loss.item())\n",
    "\n",
    "\n",
    "def number_of_correct(pred, target):\n",
    "    return pred.squeeze().eq(target).sum().item()\n",
    "\n",
    "\n",
    "def get_likely_index(tensor):\n",
    "    return tensor.argmax(dim=-1)\n",
    "\n",
    "\n",
    "def test(model, epoch, loader):\n",
    "    model.eval()\n",
    "    correct = 0\n",
    "    for data, target in loader:\n",
    "        data = data.to(device)\n",
    "        target = target.to(device)\n",
    "\n",
    "        data = transform(data)\n",
    "        output = model(data)\n",
    "\n",
    "        pred = get_likely_index(output)\n",
    "        correct += number_of_correct(pred, target)\n",
    "\n",
    "    return (correct / len(loader.dataset)) * 100.0\n"
   ],
   "metadata": {
    "collapsed": false,
    "pycharm": {
     "name": "#%%\n"
    }
   }
  },
  {
   "cell_type": "code",
   "execution_count": 18,
   "outputs": [
    {
     "data": {
      "text/plain": "  0%|          | 0/40 [00:00<?, ?it/s]",
      "application/vnd.jupyter.widget-view+json": {
       "version_major": 2,
       "version_minor": 0,
       "model_id": "50abe017fa8049eaa0f714b16c139f1f"
      }
     },
     "metadata": {},
     "output_type": "display_data"
    },
    {
     "name": "stdout",
     "output_type": "stream",
     "text": [
      "Train Epoch: 1 [0/2005 (0%)]\tLoss: 3.033076\n",
      "On train: 8%\n",
      "On test: 7%\n",
      "Train Epoch: 2 [0/2005 (0%)]\tLoss: 2.731475\n",
      "On train: 7%\n",
      "On test: 8%\n",
      "Train Epoch: 3 [0/2005 (0%)]\tLoss: 2.737280\n",
      "On train: 10%\n",
      "On test: 9%\n",
      "Train Epoch: 4 [0/2005 (0%)]\tLoss: 2.351625\n",
      "On train: 7%\n",
      "On test: 7%\n",
      "Train Epoch: 5 [0/2005 (0%)]\tLoss: 2.267894\n",
      "On train: 5%\n",
      "On test: 5%\n",
      "Train Epoch: 6 [0/2005 (0%)]\tLoss: 1.971137\n",
      "On train: 10%\n",
      "On test: 10%\n",
      "Train Epoch: 7 [0/2005 (0%)]\tLoss: 1.672413\n",
      "On train: 11%\n",
      "On test: 12%\n",
      "Train Epoch: 8 [0/2005 (0%)]\tLoss: 1.390118\n",
      "On train: 21%\n",
      "On test: 22%\n",
      "Train Epoch: 9 [0/2005 (0%)]\tLoss: 1.500915\n",
      "On train: 33%\n",
      "On test: 34%\n",
      "Train Epoch: 10 [0/2005 (0%)]\tLoss: 1.207472\n",
      "On train: 13%\n",
      "On test: 14%\n",
      "Train Epoch: 11 [0/2005 (0%)]\tLoss: 1.204296\n",
      "On train: 25%\n",
      "On test: 25%\n",
      "Train Epoch: 12 [0/2005 (0%)]\tLoss: 1.195461\n",
      "On train: 20%\n",
      "On test: 19%\n",
      "Train Epoch: 13 [0/2005 (0%)]\tLoss: 1.002869\n",
      "On train: 15%\n",
      "On test: 15%\n",
      "Train Epoch: 14 [0/2005 (0%)]\tLoss: 1.026028\n",
      "On train: 15%\n",
      "On test: 15%\n",
      "Train Epoch: 15 [0/2005 (0%)]\tLoss: 0.860986\n",
      "On train: 22%\n",
      "On test: 22%\n",
      "Train Epoch: 16 [0/2005 (0%)]\tLoss: 0.899514\n",
      "On train: 26%\n",
      "On test: 27%\n",
      "Train Epoch: 17 [0/2005 (0%)]\tLoss: 0.768736\n",
      "On train: 21%\n",
      "On test: 21%\n",
      "Train Epoch: 18 [0/2005 (0%)]\tLoss: 0.603367\n",
      "On train: 48%\n",
      "On test: 48%\n",
      "Train Epoch: 19 [0/2005 (0%)]\tLoss: 0.619985\n",
      "On train: 28%\n",
      "On test: 28%\n",
      "Train Epoch: 20 [0/2005 (0%)]\tLoss: 0.636631\n",
      "On train: 68%\n",
      "On test: 65%\n",
      "Train Epoch: 21 [0/2005 (0%)]\tLoss: 0.517632\n",
      "On train: 84%\n",
      "On test: 80%\n",
      "Train Epoch: 22 [0/2005 (0%)]\tLoss: 0.388813\n",
      "On train: 83%\n",
      "On test: 78%\n",
      "Train Epoch: 23 [0/2005 (0%)]\tLoss: 0.357431\n",
      "On train: 86%\n",
      "On test: 81%\n",
      "Train Epoch: 24 [0/2005 (0%)]\tLoss: 0.483959\n",
      "On train: 86%\n",
      "On test: 79%\n",
      "Train Epoch: 25 [0/2005 (0%)]\tLoss: 0.317225\n",
      "On train: 91%\n",
      "On test: 84%\n",
      "Train Epoch: 26 [0/2005 (0%)]\tLoss: 0.264163\n",
      "On train: 90%\n",
      "On test: 83%\n",
      "Train Epoch: 27 [0/2005 (0%)]\tLoss: 0.293960\n",
      "On train: 90%\n",
      "On test: 84%\n",
      "Train Epoch: 28 [0/2005 (0%)]\tLoss: 0.248629\n",
      "On train: 93%\n",
      "On test: 86%\n",
      "Train Epoch: 29 [0/2005 (0%)]\tLoss: 0.235770\n",
      "On train: 92%\n",
      "On test: 85%\n",
      "Train Epoch: 30 [0/2005 (0%)]\tLoss: 0.300035\n",
      "On train: 94%\n",
      "On test: 86%\n",
      "Train Epoch: 31 [0/2005 (0%)]\tLoss: 0.188529\n",
      "On train: 94%\n",
      "On test: 86%\n",
      "Train Epoch: 32 [0/2005 (0%)]\tLoss: 0.180980\n",
      "On train: 94%\n",
      "On test: 86%\n",
      "Train Epoch: 33 [0/2005 (0%)]\tLoss: 0.192788\n",
      "On train: 94%\n",
      "On test: 86%\n",
      "Train Epoch: 34 [0/2005 (0%)]\tLoss: 0.212855\n",
      "On train: 96%\n",
      "On test: 87%\n",
      "Train Epoch: 35 [0/2005 (0%)]\tLoss: 0.148517\n",
      "On train: 95%\n",
      "On test: 86%\n",
      "Train Epoch: 36 [0/2005 (0%)]\tLoss: 0.200049\n",
      "On train: 96%\n",
      "On test: 87%\n",
      "Train Epoch: 37 [0/2005 (0%)]\tLoss: 0.164509\n",
      "On train: 96%\n",
      "On test: 86%\n",
      "Train Epoch: 38 [0/2005 (0%)]\tLoss: 0.173761\n",
      "On train: 97%\n",
      "On test: 88%\n",
      "Train Epoch: 39 [0/2005 (0%)]\tLoss: 0.151047\n",
      "On train: 97%\n",
      "On test: 88%\n",
      "Train Epoch: 40 [0/2005 (0%)]\tLoss: 0.093970\n",
      "On train: 95%\n",
      "On test: 85%\n"
     ]
    },
    {
     "data": {
      "text/plain": "Text(0.5, 1.0, 'training loss')"
     },
     "execution_count": 18,
     "metadata": {},
     "output_type": "execute_result"
    },
    {
     "data": {
      "text/plain": "<Figure size 432x288 with 1 Axes>",
      "image/png": "[encoded data removed]"
     },
     "metadata": {
      "needs_background": "light"
     },
     "output_type": "display_data"
    }
   ],
   "source": [
    "import matplotlib.pyplot as plt\n",
    "\n",
    "# The transform needs to live on the same device as the model and the data.\n",
    "transform = transform.to(device)\n",
    "with tqdm(total=n_epoch) as pbar:\n",
    "    for epoch in range(1, n_epoch + 1):\n",
    "        train(model, epoch, log_interval)\n",
    "        print(f'On train: {test(model, epoch, train_loader):.0f}%')\n",
    "        print(f'On test: {test(model, epoch, test_loader):.0f}%')\n",
    "        scheduler.step()\n",
    "\n",
    "# Let's plot the training loss versus the number of iteration.\n",
    "plt.plot(losses)\n",
    "plt.title(\"training loss\")"
   ],
   "metadata": {
    "collapsed": false,
    "pycharm": {
     "name": "#%%\n"
    }
   }
  }
 ],
 "metadata": {
  "kernelspec": {
   "display_name": "Python 3",
   "language": "python",
   "name": "python3"
  },
  "language_info": {
   "codemirror_mode": {
    "name": "ipython",
    "version": 2
   },
   "file_extension": ".py",
   "mimetype": "text/x-python",
   "name": "python",
   "nbconvert_exporter": "python",
   "pygments_lexer": "ipython2",
   "version": "2.7.6"
  }
 },
 "nbformat": 4,
 "nbformat_minor": 0
}