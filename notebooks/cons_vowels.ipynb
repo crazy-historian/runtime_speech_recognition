{
 "cells": [
  {
   "cell_type": "markdown",
   "metadata": {},
   "source": [
    "## Dependencies"
   ]
  },
  {
   "cell_type": "code",
   "execution_count": 1,
   "metadata": {},
   "outputs": [],
   "source": [
    "import sys\n",
    "sys.path.append('/home/maxim/VisibleSpeech/runtime_speech_recognition/data')\n",
    "sys.path.append('/home/maxim/VisibleSpeech/runtime_speech_recognition')"
   ]
  },
  {
   "cell_type": "code",
   "execution_count": 2,
   "metadata": {},
   "outputs": [],
   "source": [
    "import torch\n",
    "from torch import nn\n",
    "\n",
    "import pytorch_lightning as pl\n",
    "\n",
    "import torchaudio.transforms as T\n",
    "\n",
    "from IPython.display import Audio, display\n",
    "from data import datasets\n",
    "from utils.utils import provide_reproducibility"
   ]
  },
  {
   "cell_type": "markdown",
   "metadata": {},
   "source": [
    "## CUDA device"
   ]
  },
  {
   "cell_type": "code",
   "execution_count": 3,
   "metadata": {},
   "outputs": [
    {
     "name": "stdout",
     "output_type": "stream",
     "text": [
      "cuda\n"
     ]
    }
   ],
   "source": [
    "provide_reproducibility(42)\n",
    "\n",
    "device = torch.device(\"cuda\" if torch.cuda.is_available() else \"cpu\")\n",
    "print(device)"
   ]
  },
  {
   "cell_type": "markdown",
   "metadata": {},
   "source": [
    "## Datasets"
   ]
  },
  {
   "cell_type": "code",
   "execution_count": 4,
   "metadata": {},
   "outputs": [],
   "source": [
    "dir_name = '/media/maxim/Programming/voice_datasets/timit/TIMIT_2/data'  # ubuntu"
   ]
  },
  {
   "cell_type": "code",
   "execution_count": 5,
   "metadata": {},
   "outputs": [],
   "source": [
    "import importlib\n",
    "\n",
    "importlib.reload(datasets)\n",
    "\n",
    "vowel_labels = [\n",
    "    'IY', 'IH', 'EH', 'EY', 'AE', 'AA', 'AW', 'AY',\n",
    "    'AH', 'AO', 'OY', 'OW', 'UH', 'UW', 'UX', 'ER',\n",
    "    'AX','IX', 'AXR', 'AH-H'\n",
    "    ]\n",
    "consonant_labels = [\n",
    "        'B', 'D', 'G', 'P', 'T', 'K', 'DX', 'Q',     # stops\n",
    "        'M', 'N', 'NG', 'EM', 'EN', 'ENG', 'NX',     # nasals\n",
    "        'JH', 'CH',                                  # affricates\n",
    "        'S', 'SH', 'Z', 'ZH', 'F', 'TH', 'V', 'DH',  # fricatives\n",
    "        'L', 'R', 'W', 'Y', 'HH', 'HV', 'EL'         # semivowels_glides\n",
    "    ]\n",
    "\n",
    "other_labels = ['H#', 'PAU', 'EPI']\n",
    "\n",
    "phoneme_classes = {\n",
    "    'vowels': vowel_labels,\n",
    "    'consonants': consonant_labels,\n",
    "    'other': other_labels\n",
    "}\n",
    "phone_labels = vowel_labels + consonant_labels + other_labels\n",
    "\n",
    "timit_dataset_train = datasets.TIMITDataset(\n",
    "    usage='train',\n",
    "    percentage=0.05,\n",
    "    root_dir=dir_name,\n",
    "    phone_codes=phoneme_classes,\n",
    "    padding=16000,\n",
    "    phoneme_labeler=datasets.PhonemeLabeler(phoneme_classes, '.'),\n",
    "    description_file_path='../data/timit_description.csv'\n",
    "    )\n",
    "\n",
    "timit_dataset_test = datasets.TIMITDataset(\n",
    "    usage='test',\n",
    "    percentage=0.05,\n",
    "    root_dir=dir_name,\n",
    "    phone_codes=phoneme_classes,\n",
    "    padding=16000,\n",
    "    phoneme_labeler=datasets.PhonemeLabeler(phoneme_classes, '.'),\n",
    "    description_file_path='../data/timit_description.csv'\n",
    "    )\n",
    "\n",
    "timit_framerate = timit_dataset_train[0].frame_rate"
   ]
  },
  {
   "cell_type": "code",
   "execution_count": 6,
   "metadata": {},
   "outputs": [
    {
     "data": {
      "text/plain": [
       "'consonants'"
      ]
     },
     "execution_count": 6,
     "metadata": {},
     "output_type": "execute_result"
    }
   ],
   "source": [
    "datasets.PhonemeLabeler(phoneme_classes, '.')['K']"
   ]
  },
  {
   "cell_type": "code",
   "execution_count": 7,
   "metadata": {},
   "outputs": [
    {
     "data": {
      "text/plain": [
       "AudioData(data=tensor([[ 0.0000e+00,  3.0518e-05, -3.0518e-05,  ...,  0.0000e+00,\n",
       "          0.0000e+00,  0.0000e+00]]), label='consonants', frame_rate=16000, sample_width=16)"
      ]
     },
     "execution_count": 7,
     "metadata": {},
     "output_type": "execute_result"
    }
   ],
   "source": [
    "timit_dataset_train[0]"
   ]
  },
  {
   "cell_type": "code",
   "execution_count": 8,
   "metadata": {},
   "outputs": [
    {
     "name": "stdout",
     "output_type": "stream",
     "text": [
      "<class 'pandas.core.frame.DataFrame'>\n",
      "Int64Index: 7637 entries, 79269 to 183386\n",
      "Data columns (total 9 columns):\n",
      " #   Column          Non-Null Count  Dtype  \n",
      "---  ------          --------------  -----  \n",
      " 0   phone_name      7637 non-null   object \n",
      " 1   phone_class     7637 non-null   object \n",
      " 2   usage           7637 non-null   object \n",
      " 3   speaker_id      7637 non-null   object \n",
      " 4   speaker_gender  7637 non-null   object \n",
      " 5   dialect         7637 non-null   object \n",
      " 6   wav_file_path   7637 non-null   object \n",
      " 7   t0              7637 non-null   float64\n",
      " 8   t1              7637 non-null   float64\n",
      "dtypes: float64(2), object(7)\n",
      "memory usage: 596.6+ KB\n"
     ]
    }
   ],
   "source": [
    "timit_dataset_train.description_table.info()"
   ]
  },
  {
   "cell_type": "code",
   "execution_count": 9,
   "metadata": {
    "collapsed": false
   },
   "outputs": [
    {
     "data": {
      "text/plain": [
       "<Axes: ylabel='phone_class'>"
      ]
     },
     "execution_count": 9,
     "metadata": {},
     "output_type": "execute_result"
    },
    {
     "data": {
      "image/png": "[encoded data removed]",
      "text/plain": [
       "<Figure size 640x480 with 1 Axes>"
      ]
     },
     "metadata": {},
     "output_type": "display_data"
    }
   ],
   "source": [
    "timit_dataset_train.description_table.phone_class.value_counts(normalize=True).plot(kind='pie')"
   ]
  },
  {
   "cell_type": "code",
   "execution_count": 10,
   "metadata": {},
   "outputs": [
    {
     "data": {
      "text/plain": [
       "<Axes: ylabel='phone_name'>"
      ]
     },
     "execution_count": 10,
     "metadata": {},
     "output_type": "execute_result"
    },
    {
     "data": {
      "image/png": "[encoded data removed]",
      "text/plain": [
       "<Figure size 640x480 with 1 Axes>"
      ]
     },
     "metadata": {},
     "output_type": "display_data"
    }
   ],
   "source": [
    "timit_dataset_train.description_table.phone_name.value_counts(normalize=True).plot(kind='pie')"
   ]
  },
  {
   "cell_type": "code",
   "execution_count": 11,
   "metadata": {},
   "outputs": [],
   "source": [
    "labels = ['consonants', 'vowels', 'other']\n",
    "num_of_classes = len(labels)"
   ]
  },
  {
   "cell_type": "code",
   "execution_count": 12,
   "metadata": {
    "collapsed": false
   },
   "outputs": [],
   "source": [
    "import numpy as np\n",
    "\n",
    "lengths = list()\n",
    "for audio_data in timit_dataset_train:\n",
    "    lengths.append(len(audio_data.data[0]))\n",
    "\n",
    "lengths_test = list()\n",
    "for audio_data in timit_dataset_test:\n",
    "    lengths_test.append(len(audio_data.data[0]))\n",
    "\n",
    "lengths = np.array(lengths)\n",
    "lengths_test = np.array(lengths_test)\n"
   ]
  },
  {
   "cell_type": "markdown",
   "metadata": {},
   "source": [
    "## Transform"
   ]
  },
  {
   "cell_type": "code",
   "execution_count": 13,
   "metadata": {},
   "outputs": [],
   "source": [
    "transform = T.Resample(orig_freq=timit_framerate, new_freq=8000)\n",
    "transform_cpu = T.Resample(orig_freq=timit_framerate, new_freq=8000)\n",
    "\n",
    "chunk_size = 1024"
   ]
  },
  {
   "attachments": {},
   "cell_type": "markdown",
   "metadata": {},
   "source": [
    "## Dataloaders"
   ]
  },
  {
   "cell_type": "code",
   "execution_count": 14,
   "metadata": {},
   "outputs": [],
   "source": [
    "# def label_to_index(phone):\n",
    "#     index = labels.index(phone)\n",
    "#     num_labels = len(labels)\n",
    "#     one_hot = [0] * num_labels\n",
    "#     one_hot[index] = 1\n",
    "#     return torch.tensor(one_hot)\n",
    "\n",
    "def label_to_index(phone):\n",
    "    # Return the position of the word in labels\n",
    "    return torch.tensor(labels.index(phone))\n",
    "\n",
    "def index_to_label(index):\n",
    "    return labels[index]\n",
    "\n",
    "\n",
    "def pad_sequence(batch):\n",
    "    batch = [item.t() for item in batch]\n",
    "    batch = torch.nn.utils.rnn.pad_sequence(batch, batch_first=True, padding_value=0.)\n",
    "    return batch.permute(0, 2, 1)\n",
    "\n",
    "\n",
    "def collate_fn(batch):\n",
    "    tensors, targets = [], []\n",
    "\n",
    "    for waveform, label, *_ in batch:\n",
    "        tensors += [waveform[..., :chunk_size]]\n",
    "        targets += [label_to_index(label)]\n",
    "\n",
    "    tensors = pad_sequence(tensors)\n",
    "    targets = torch.stack(targets)\n",
    "\n",
    "    return tensors, targets\n",
    "\n",
    "\n",
    "batch_size = 256\n",
    "\n",
    "if device == \"cuda\":\n",
    "    num_workers = 12\n",
    "    pin_memory = True\n",
    "else:\n",
    "    num_workers = 12\n",
    "    pin_memory = False\n",
    "\n",
    "train_loader = torch.utils.data.DataLoader(\n",
    "    timit_dataset_train,\n",
    "    batch_size=batch_size,\n",
    "    shuffle=True,\n",
    "    collate_fn=collate_fn,\n",
    "    num_workers=num_workers,\n",
    "    pin_memory=pin_memory,\n",
    ")\n",
    "test_loader = torch.utils.data.DataLoader(\n",
    "    timit_dataset_test,\n",
    "    batch_size=batch_size,\n",
    "    shuffle=False,\n",
    "    drop_last=False,\n",
    "    collate_fn=collate_fn,\n",
    "    num_workers=num_workers,\n",
    "    pin_memory=pin_memory,\n",
    ")\n",
    "\n",
    "train_features, train_labels = next(iter(train_loader))"
   ]
  },
  {
   "cell_type": "code",
   "execution_count": 15,
   "metadata": {
    "collapsed": false
   },
   "outputs": [
    {
     "data": {
      "text/plain": [
       "(torch.Size([1, 1024]), torch.Size([256]))"
      ]
     },
     "execution_count": 15,
     "metadata": {},
     "output_type": "execute_result"
    }
   ],
   "source": [
    "train_features[0].shape, train_labels.shape"
   ]
  },
  {
   "attachments": {},
   "cell_type": "markdown",
   "metadata": {},
   "source": [
    "## Model training"
   ]
  },
  {
   "cell_type": "code",
   "execution_count": 16,
   "metadata": {},
   "outputs": [
    {
     "data": {
      "text/plain": [
       "<module 'models.mixins' from '/home/maxim/VisibleSpeech/runtime_speech_recognition/models/mixins.py'>"
      ]
     },
     "execution_count": 16,
     "metadata": {},
     "output_type": "execute_result"
    }
   ],
   "source": [
    "import models\n",
    "from models import phoneme_recognizer\n",
    "from models import mixins\n",
    "\n",
    "importlib.reload(models)\n",
    "importlib.reload(phoneme_recognizer)\n",
    "importlib.reload(mixins)"
   ]
  },
  {
   "cell_type": "code",
   "execution_count": 18,
   "metadata": {
    "collapsed": false
   },
   "outputs": [],
   "source": [
    "import torch.nn.functional as F\n",
    "\n",
    "\n",
    "class M3(nn.Module):\n",
    "    def __init__(self, n_input=1, n_output=35, stride=4, kernel_size=80, n_channel=256):\n",
    "        super().__init__()\n",
    "        self.conv1 = nn.Conv1d(n_input, n_channel, kernel_size=kernel_size, stride=stride)\n",
    "        self.bn1 = nn.BatchNorm1d(n_channel)\n",
    "        self.pool1 = nn.MaxPool1d(4)\n",
    "        #\n",
    "        self.conv2 = nn.Conv1d(n_channel, n_channel, kernel_size=3)\n",
    "        self.bn2 = nn.BatchNorm1d(n_channel)\n",
    "        self.pool2 = nn.MaxPool1d(4)\n",
    "\n",
    "        self.fc1 = nn.Linear(n_channel, n_output)\n",
    "\n",
    "    def forward(self, x):\n",
    "        x = self.conv1(x)\n",
    "        x = F.relu(self.bn1(x))\n",
    "        x = self.pool1(x)\n",
    "        x = self.conv2(x)\n",
    "        x = F.relu(self.bn2(x))\n",
    "        x = self.pool2(x)\n",
    "\n",
    "        x = F.avg_pool1d(x, int(x.shape[-1])) # fixme ????\n",
    "        x = x.permute(0, 2, 1)\n",
    "        x = self.fc1(x)\n",
    "        return F.log_softmax(x, dim=2)\n",
    "        # return self.sigmoid(x)"
   ]
  },
  {
   "cell_type": "code",
   "execution_count": 19,
   "metadata": {
    "collapsed": false
   },
   "outputs": [],
   "source": [
    "class M5(nn.Module):\n",
    "    def __init__(self, n_input=1, n_output=35, stride=4, n_channel=128):\n",
    "        super().__init__()\n",
    "        self.conv1 = nn.Conv1d(n_input, n_channel, kernel_size=80, stride=stride)\n",
    "        self.bn1 = nn.BatchNorm1d(n_channel)\n",
    "        self.pool1 = nn.MaxPool1d(4)\n",
    "        self.conv2 = nn.Conv1d(n_channel, n_channel, kernel_size=3)\n",
    "        self.bn2 = nn.BatchNorm1d(n_channel)\n",
    "        self.pool2 = nn.MaxPool1d(4)\n",
    "        self.conv3 = nn.Conv1d(n_channel, 2 * n_channel, kernel_size=3)\n",
    "        self.bn3 = nn.BatchNorm1d(2 * n_channel)\n",
    "        self.pool3 = nn.MaxPool1d(4)\n",
    "        self.conv4 = nn.Conv1d(2 * n_channel, 2 * n_channel, kernel_size=3)\n",
    "        self.bn4 = nn.BatchNorm1d(2 * n_channel)\n",
    "        self.pool4 = nn.MaxPool1d(4)\n",
    "        self.fc1 = nn.Linear(2 * n_channel, n_output)\n",
    "\n",
    "    def forward(self, x):\n",
    "        x = self.conv1(x)\n",
    "        x = F.relu(self.bn1(x))\n",
    "        x = self.pool1(x)\n",
    "        x = self.conv2(x)\n",
    "        x = F.relu(self.bn2(x))\n",
    "        x = self.pool2(x)\n",
    "        x = self.conv3(x)\n",
    "        x = F.relu(self.bn3(x))\n",
    "        x = self.pool3(x)\n",
    "        x = self.conv4(x)\n",
    "        x = F.relu(self.bn4(x))\n",
    "        x = self.pool4(x)\n",
    "        x = F.avg_pool1d(x, x.shape[-1])\n",
    "        x = x.permute(0, 2, 1)\n",
    "        x = self.fc1(x)\n",
    "        return F.log_softmax(x, dim=2)"
   ]
  },
  {
   "cell_type": "code",
   "execution_count": 20,
   "metadata": {},
   "outputs": [],
   "source": [
    "from pathlib import Path\n",
    "\n",
    "# model params\n",
    "n_input = 1\n",
    "n_output = num_of_classes\n",
    "stride = 4\n",
    "kernel_size = 80\n",
    "n_channel = 256\n",
    "optimizer = 'adadelta'\n",
    "lr = 3e-2\n",
    "\n",
    "model_name = 'M3 with other'\n",
    "# experiment_name = f'no resample, chunk_size={chunk_size}, kernel={kernel_size}, stride={stride}, n_channels={n_channel}, optimizer={optimizer}, lr={lr}'\n",
    "experiment_name = 'TEST_2023'\n",
    "project_name = 'Vowel&Consonants'\n",
    "\n",
    "model_path = Path(f'/home/maxim/VisibleSpeech/PhonemeRecognizer/models/{model_name}')\n",
    "experiment_path_model = model_path / experiment_name\n",
    "\n",
    "logs_path = experiment_path_model / 'logs'\n",
    "cp_path = experiment_path_model / 'cp'\n",
    "logs_path.mkdir(parents=True, exist_ok=True)\n",
    "cp_path.mkdir(parents=True, exist_ok=True)"
   ]
  },
  {
   "cell_type": "code",
   "execution_count": 21,
   "metadata": {},
   "outputs": [],
   "source": [
    "from pathlib import Path\n",
    "from models.phoneme_recognizer import PhonemeRecognizer, AudioPreprocessorCallback\n",
    "from pytorch_lightning.callbacks import ModelCheckpoint\n",
    "\n",
    "\n",
    "model = PhonemeRecognizer(\n",
    "    acoustic_model=M3,\n",
    "    num_of_classes=num_of_classes,\n",
    "    model_params=dict(\n",
    "        n_input=n_input,\n",
    "        n_output=num_of_classes,\n",
    "        stride=stride,\n",
    "        # kernel_size=kernel_size,\n",
    "        n_channel=n_channel\n",
    "    ),\n",
    "    loss_criterion=nn.NLLLoss(),\n",
    "    lr=lr,\n",
    "    target_type=None\n",
    ")\n",
    "config_params = dict(\n",
    "    n_input=n_input,\n",
    "    n_output=num_of_classes,\n",
    "    stride=stride,\n",
    "    n_channel=n_channel,\n",
    "    optimizer=optimizer,\n",
    "    lr=lr\n",
    ")\n",
    "\n",
    "model_checkpoint_callback = ModelCheckpoint(\n",
    "    monitor='val_loss',\n",
    "    dirpath=cp_path,\n",
    "    filename=model_name + '_' + experiment_name + '{epoch:02d}-{val_loss:.2f}',\n",
    "    save_top_k=-1,\n",
    "    mode='min'\n",
    ")\n",
    "preprocessor_callback = AudioPreprocessorCallback(transform=transform, device=device)\n",
    "callbacks = [model_checkpoint_callback]"
   ]
  },
  {
   "cell_type": "code",
   "execution_count": 22,
   "metadata": {},
   "outputs": [
    {
     "name": "stderr",
     "output_type": "stream",
     "text": [
      "Failed to detect the name of this notebook, you can set it manually with the WANDB_NOTEBOOK_NAME environment variable to enable code saving.\n",
      "\u001b[34m\u001b[1mwandb\u001b[0m: Currently logged in as: \u001b[33mcrazy_historian\u001b[0m. Use \u001b[1m`wandb login --relogin`\u001b[0m to force relogin\n"
     ]
    },
    {
     "data": {
      "text/html": [
       "Tracking run with wandb version 0.15.3"
      ],
      "text/plain": [
       "<IPython.core.display.HTML object>"
      ]
     },
     "metadata": {},
     "output_type": "display_data"
    },
    {
     "data": {
      "text/html": [
       "Run data is saved locally in <code>/home/maxim/VisibleSpeech/PhonemeRecognizer/models/M3 with other/TEST_2023/logs/wandb/run-20230604_171347-enwq6nmr</code>"
      ],
      "text/plain": [
       "<IPython.core.display.HTML object>"
      ]
     },
     "metadata": {},
     "output_type": "display_data"
    },
    {
     "data": {
      "text/html": [
       "Syncing run <strong><a href='https://wandb.ai/crazy_historian/Vowel%26Consonants/runs/enwq6nmr' target=\"_blank\">M3 with other:TEST_2023</a></strong> to <a href='https://wandb.ai/crazy_historian/Vowel%26Consonants' target=\"_blank\">Weights & Biases</a> (<a href='https://wandb.me/run' target=\"_blank\">docs</a>)<br/>"
      ],
      "text/plain": [
       "<IPython.core.display.HTML object>"
      ]
     },
     "metadata": {},
     "output_type": "display_data"
    },
    {
     "data": {
      "text/html": [
       " View project at <a href='https://wandb.ai/crazy_historian/Vowel%26Consonants' target=\"_blank\">https://wandb.ai/crazy_historian/Vowel%26Consonants</a>"
      ],
      "text/plain": [
       "<IPython.core.display.HTML object>"
      ]
     },
     "metadata": {},
     "output_type": "display_data"
    },
    {
     "data": {
      "text/html": [
       " View run at <a href='https://wandb.ai/crazy_historian/Vowel%26Consonants/runs/enwq6nmr' target=\"_blank\">https://wandb.ai/crazy_historian/Vowel%26Consonants/runs/enwq6nmr</a>"
      ],
      "text/plain": [
       "<IPython.core.display.HTML object>"
      ]
     },
     "metadata": {},
     "output_type": "display_data"
    },
    {
     "name": "stderr",
     "output_type": "stream",
     "text": [
      "GPU available: True (cuda), used: True\n",
      "TPU available: False, using: 0 TPU cores\n",
      "IPU available: False, using: 0 IPUs\n",
      "HPU available: False, using: 0 HPUs\n",
      "\u001b[34m\u001b[1mwandb\u001b[0m: logging graph, to disable use `wandb.watch(log_graph=False)`\n",
      "LOCAL_RANK: 0 - CUDA_VISIBLE_DEVICES: [0]\n",
      "\n",
      "  | Name               | Type             | Params\n",
      "--------------------------------------------------------\n",
      "0 | loss_criterion     | NLLLoss          | 0     \n",
      "1 | train_metrics      | MetricCollection | 0     \n",
      "2 | val_metrics        | MetricCollection | 0     \n",
      "3 | test_metrics       | MetricCollection | 0     \n",
      "4 | checkpoint_metrics | MetricCollection | 0     \n",
      "5 | acoustic_model     | M3               | 219 K \n",
      "--------------------------------------------------------\n",
      "219 K     Trainable params\n",
      "0         Non-trainable params\n",
      "219 K     Total params\n",
      "0.878     Total estimated model params size (MB)\n"
     ]
    },
    {
     "name": "stdout",
     "output_type": "stream",
     "text": [
      "Epoch 2:  73%|███████▎  | 30/41 [00:01<00:00, 23.48it/s, loss=0.624, v_num=6nmr]"
     ]
    },
    {
     "name": "stderr",
     "output_type": "stream",
     "text": [
      "Exception ignored in: <function _releaseLock at 0x7fdf55d37eb0>\n",
      "Traceback (most recent call last):\n",
      "  File \"/usr/lib/python3.10/logging/__init__.py\", line 228, in _releaseLock\n",
      "    def _releaseLock():\n",
      "KeyboardInterrupt: \n"
     ]
    },
    {
     "name": "stdout",
     "output_type": "stream",
     "text": [
      "Epoch 7:  73%|███████▎  | 30/41 [00:01<00:00, 23.00it/s, loss=0.534, v_num=6nmr]"
     ]
    }
   ],
   "source": [
    "from pytorch_lightning.loggers import WandbLogger\n",
    "\n",
    "n_epochs = 10\n",
    "\n",
    "logger = WandbLogger(\n",
    "    project=project_name,\n",
    "    name=f'{model_name}:{experiment_name}',\n",
    "    save_dir=logs_path,\n",
    "    log_model='all'\n",
    ")\n",
    "\n",
    "trainer = pl.Trainer(\n",
    "    logger=logger,\n",
    "    default_root_dir=logs_path,\n",
    "    accelerator='gpu',\n",
    "    devices=1,\n",
    "    # callbacks=callbacks,\n",
    "    max_epochs=n_epochs,\n",
    "    log_every_n_steps=10)\n",
    "\n",
    "logger.watch(model, log='all', log_graph=True)\n",
    "trainer.fit(model, train_loader, test_loader)\n"
   ]
  },
  {
   "cell_type": "code",
   "execution_count": 14,
   "metadata": {
    "collapsed": false
   },
   "outputs": [
    {
     "name": "stderr",
     "output_type": "stream",
     "text": [
      "/tmp/ipykernel_26003/4009670632.py:25: TracerWarning: Converting a tensor to a Python integer might cause the trace to be incorrect. We can't record the data flow of Python values, so this value will be treated as a constant in the future. This means that the trace might not generalize to other inputs!\n",
      "  x = F.avg_pool1d(x, int(x.shape[-1])) # fixme ????\n"
     ]
    }
   ],
   "source": [
    "filepath = f'{model_name}_{experiment_name}'\n",
    "input_sample = train_features[0].unsqueeze(0)\n",
    "\n",
    "model.to_onnx(filepath, input_sample, export_params=True)"
   ]
  }
 ],
 "metadata": {
  "kernelspec": {
   "display_name": "Python 3 (ipykernel)",
   "language": "python",
   "name": "python3"
  },
  "language_info": {
   "codemirror_mode": {
    "name": "ipython",
    "version": 3
   },
   "file_extension": ".py",
   "mimetype": "text/x-python",
   "name": "python",
   "nbconvert_exporter": "python",
   "pygments_lexer": "ipython3",
   "version": "3.10.6"
  }
 },
 "nbformat": 4,
 "nbformat_minor": 1
}
