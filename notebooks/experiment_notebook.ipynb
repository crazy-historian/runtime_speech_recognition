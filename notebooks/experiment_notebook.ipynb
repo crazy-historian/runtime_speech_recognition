{
 "cells": [
  {
   "cell_type": "markdown",
   "metadata": {},
   "source": [
    "## Dependencies"
   ]
  },
  {
   "cell_type": "code",
   "execution_count": 1,
   "metadata": {},
   "outputs": [],
   "source": [
    "import sys\n",
    "import importlib\n",
    "sys.path.append('/home/maxim/VisibleSpeech/runtime_speech_recognition/data')\n",
    "sys.path.append('/home/maxim/VisibleSpeech/runtime_speech_recognition')"
   ]
  },
  {
   "cell_type": "code",
   "execution_count": 2,
   "metadata": {},
   "outputs": [],
   "source": [
    "import torch\n",
    "from torch import nn\n",
    "\n",
    "import pytorch_lightning as pl\n",
    "import torchaudio.transforms as T\n",
    "from torch.utils.data import DataLoader\n",
    "\n",
    "from data import datasets\n",
    "from IPython.display import Audio, display\n",
    "from utils.utils import provide_reproducibility\n",
    "from pytorch_lightning.loggers import WandbLogger"
   ]
  },
  {
   "cell_type": "code",
   "execution_count": null,
   "metadata": {},
   "outputs": [],
   "source": [
    "import models\n",
    "from models import phoneme_recognizer\n",
    "from models import mixins"
   ]
  },
  {
   "cell_type": "markdown",
   "metadata": {},
   "source": [
    "## CUDA device"
   ]
  },
  {
   "cell_type": "code",
   "execution_count": 3,
   "metadata": {},
   "outputs": [
    {
     "name": "stdout",
     "output_type": "stream",
     "text": [
      "cuda\n"
     ]
    }
   ],
   "source": [
    "provide_reproducibility(42)\n",
    "\n",
    "device = torch.device(\"cuda\" if torch.cuda.is_available() else \"cpu\")\n",
    "print(device)"
   ]
  },
  {
   "cell_type": "markdown",
   "metadata": {},
   "source": [
    "## Datasets"
   ]
  },
  {
   "cell_type": "code",
   "execution_count": 4,
   "metadata": {},
   "outputs": [],
   "source": [
    "dir_name = '/media/maxim/Programming/voice_datasets/timit/TIMIT_2/data'  # ubuntu"
   ]
  },
  {
   "cell_type": "code",
   "execution_count": 5,
   "metadata": {},
   "outputs": [],
   "source": [
    "importlib.reload(datasets)\n",
    "\n",
    "vowel_labels = ['IY', 'IH', 'EH', 'EY', 'AE', 'AA', 'AW', 'AY', 'AH', 'AO', 'OY', 'OW', 'UH', 'UW', 'UX', 'ER', 'AX',\n",
    "                'IX', 'AXR', 'AH-H']\n",
    "consonant_labels = ['B', 'D', 'G', 'P', 'T', 'K', 'DX', 'Q', 'JH', 'CH', 'S', 'SH', 'Z', 'ZH', 'F', 'TH', 'V', 'M', 'N',\n",
    "                    'NG', 'EM', 'EN', 'ENG', 'NX']\n",
    "\n",
    "phoneme_classes = {\n",
    "    'vowels': vowel_labels,\n",
    "    'consonants': consonant_labels\n",
    "}\n",
    "phone_labels = vowel_labels + consonant_labels\n",
    "\n",
    "timit_dataset_train = datasets.TIMITDataset(\n",
    "    usage='train',\n",
    "    percentage=0.1,\n",
    "    root_dir=dir_name,\n",
    "    phone_codes=phoneme_classes,\n",
    "    padding=16000,\n",
    "    phoneme_labeler=datasets.PhonemeLabeler(phoneme_classes, '.'),\n",
    "    description_file_path='../data/timit_description.csv'\n",
    ")\n",
    "\n",
    "timit_dataset_test = datasets.TIMITDataset(\n",
    "    usage='test',\n",
    "    percentage=0.1,\n",
    "    root_dir=dir_name,\n",
    "    phone_codes=phoneme_classes,\n",
    "    padding=16000,\n",
    "    phoneme_labeler=datasets.PhonemeLabeler(phoneme_classes, '.'),\n",
    "    description_file_path='../data/timit_description.csv'\n",
    ")"
   ]
  },
  {
   "cell_type": "code",
   "execution_count": 6,
   "metadata": {},
   "outputs": [],
   "source": [
    "timit_framerate = timit_dataset_train[0].frame_rate"
   ]
  },
  {
   "cell_type": "code",
   "execution_count": 7,
   "metadata": {},
   "outputs": [
    {
     "data": {
      "text/plain": [
       "AudioData(data=tensor([[ 0.0000e+00,  3.0518e-05, -3.0518e-05,  ...,  0.0000e+00,\n",
       "          0.0000e+00,  0.0000e+00]]), label='consonants', frame_rate=16000, sample_width=16)"
      ]
     },
     "execution_count": 7,
     "metadata": {},
     "output_type": "execute_result"
    }
   ],
   "source": [
    "timit_dataset_train[0]"
   ]
  },
  {
   "cell_type": "code",
   "execution_count": 8,
   "metadata": {},
   "outputs": [],
   "source": [
    "labels = ['consonants', 'vowels']\n",
    "num_of_classes = len(labels)"
   ]
  },
  {
   "attachments": {},
   "cell_type": "markdown",
   "metadata": {},
   "source": [
    "## Transform"
   ]
  },
  {
   "cell_type": "code",
   "execution_count": 9,
   "metadata": {},
   "outputs": [],
   "source": [
    "transform = T.Resample(orig_freq=timit_framerate, new_freq=8000)\n",
    "transform_cpu = T.Resample(orig_freq=timit_framerate, new_freq=8000)"
   ]
  },
  {
   "attachments": {},
   "cell_type": "markdown",
   "metadata": {},
   "source": [
    "## Dataloaders"
   ]
  },
  {
   "cell_type": "code",
   "execution_count": 10,
   "metadata": {},
   "outputs": [],
   "source": [
    "def label_to_index(phone):\n",
    "    if phone == 'consonants':\n",
    "        return torch.tensor([1, 0])\n",
    "    else:\n",
    "        return torch.tensor([0, 1])\n",
    "\n",
    "\n",
    "def index_to_label(index):\n",
    "    return labels[index]\n",
    "\n",
    "\n",
    "def pad_sequence(batch):\n",
    "    batch = [item.t() for item in batch]\n",
    "    batch = torch.nn.utils.rnn.pad_sequence(batch, batch_first=True, padding_value=0.)\n",
    "    return batch.permute(0, 2, 1)\n",
    "\n",
    "\n",
    "def collate_fn(batch):\n",
    "    tensors, targets = [], []\n",
    "\n",
    "    for waveform, label, *_ in batch:\n",
    "        tensors += [waveform]\n",
    "        targets += [label_to_index(label)]\n",
    "\n",
    "    tensors = pad_sequence(tensors)\n",
    "    targets = torch.stack(targets)\n",
    "\n",
    "    return tensors, targets\n",
    "\n",
    "\n",
    "batch_size = 256\n",
    "\n",
    "if device == \"cuda\":\n",
    "    num_workers = 12\n",
    "    pin_memory = True\n",
    "else:\n",
    "    num_workers = 12\n",
    "    pin_memory = False\n",
    "\n",
    "train_loader = torch.utils.data.DataLoader(\n",
    "    timit_dataset_train,\n",
    "    batch_size=batch_size,\n",
    "    shuffle=True,\n",
    "    collate_fn=collate_fn,\n",
    "    num_workers=num_workers,\n",
    "    pin_memory=pin_memory,\n",
    ")\n",
    "test_loader = torch.utils.data.DataLoader(\n",
    "    timit_dataset_test,\n",
    "    batch_size=batch_size,\n",
    "    shuffle=False,\n",
    "    drop_last=False,\n",
    "    collate_fn=collate_fn,\n",
    "    num_workers=num_workers,\n",
    "    pin_memory=pin_memory,\n",
    ")\n",
    "\n",
    "train_features, train_labels = next(iter(train_loader))"
   ]
  },
  {
   "cell_type": "code",
   "execution_count": 23,
   "metadata": {},
   "outputs": [
    {
     "data": {
      "text/plain": [
       "torch.Size([2])"
      ]
     },
     "execution_count": 23,
     "metadata": {},
     "output_type": "execute_result"
    }
   ],
   "source": [
    "label_to_index('consonants').shape"
   ]
  },
  {
   "cell_type": "code",
   "execution_count": 21,
   "metadata": {},
   "outputs": [
    {
     "data": {
      "text/plain": [
       "(torch.Size([1, 16000]), torch.Size([256, 2]))"
      ]
     },
     "execution_count": 21,
     "metadata": {},
     "output_type": "execute_result"
    }
   ],
   "source": [
    "train_features[0].shape, train_labels.shape"
   ]
  },
  {
   "attachments": {},
   "cell_type": "markdown",
   "metadata": {},
   "source": [
    "## Model training"
   ]
  },
  {
   "cell_type": "code",
   "execution_count": 11,
   "metadata": {},
   "outputs": [
    {
     "data": {
      "text/plain": [
       "<module 'models.mixins' from '/home/maxim/VisibleSpeech/runtime_speech_recognition/models/mixins.py'>"
      ]
     },
     "execution_count": 11,
     "metadata": {},
     "output_type": "execute_result"
    }
   ],
   "source": [
    "importlib.reload(models)\n",
    "importlib.reload(phoneme_recognizer)\n",
    "importlib.reload(mixins)"
   ]
  },
  {
   "cell_type": "code",
   "execution_count": 12,
   "metadata": {},
   "outputs": [],
   "source": [
    "from pathlib import Path\n",
    "from models.phoneme_recognizer import PhonemeRecognizer, AudioPreprocessorCallback\n",
    "from pytorch_lightning.callbacks import ModelCheckpoint"
   ]
  },
  {
   "attachments": {},
   "cell_type": "markdown",
   "metadata": {},
   "source": [
    "### Params and config"
   ]
  },
  {
   "cell_type": "code",
   "execution_count": null,
   "metadata": {},
   "outputs": [],
   "source": [
    "\n",
    "# model params\n",
    "n_input = 1\n",
    "n_output = num_of_classes\n",
    "stride = 4\n",
    "n_channel = 256\n",
    "optimizer = 'adadelta'\n",
    "lr = 3e-1\n"
   ]
  },
  {
   "cell_type": "code",
   "execution_count": 13,
   "metadata": {},
   "outputs": [],
   "source": [
    "\n",
    "model_name = 'M3'\n",
    "experiment_name = 'TEST_2023'\n",
    "project_name = 'Vowel&Consonants'\n",
    "\n",
    "model_path = Path(f'/home/maxim/VisibleSpeech/PhonemeRecognizer/models/{model_name}')\n",
    "experiment_path_model = model_path / experiment_name\n",
    "\n",
    "logs_path = experiment_path_model / 'logs'\n",
    "cp_path = experiment_path_model / 'cp'\n",
    "logs_path.mkdir(parents=True, exist_ok=True)\n",
    "cp_path.mkdir(parents=True, exist_ok=True)"
   ]
  },
  {
   "attachments": {},
   "cell_type": "markdown",
   "metadata": {},
   "source": [
    "### Init model"
   ]
  },
  {
   "cell_type": "code",
   "execution_count": 14,
   "metadata": {},
   "outputs": [],
   "source": [
    "import torch.nn.functional as F\n",
    "\n",
    "\n",
    "class M3(nn.Module):\n",
    "    def __init__(self, n_input=1, n_output=35, stride=4, n_channel=256):\n",
    "        super().__init__()\n",
    "        self.conv1 = nn.Conv1d(n_input, n_channel, kernel_size=80, stride=stride)\n",
    "        self.bn1 = nn.BatchNorm1d(n_channel)\n",
    "        self.pool1 = nn.MaxPool1d(4)\n",
    "        #\n",
    "        self.conv2 = self.conv2 = nn.Conv1d(n_channel, n_channel, kernel_size=3)\n",
    "        self.bn2 = nn.BatchNorm1d(n_channel)\n",
    "        self.pool2 = nn.MaxPool1d(4)\n",
    "\n",
    "        self.fc1 = nn.Linear(n_channel, n_output)\n",
    "        self.sigmoid = nn.Sigmoid()\n",
    "\n",
    "    def forward(self, x):\n",
    "        x = self.conv1(x)\n",
    "        x = F.relu(self.bn1(x))\n",
    "        x = self.pool1(x)\n",
    "        x = self.conv2(x)\n",
    "        x = F.relu(self.bn2(x))\n",
    "        x = self.pool2(x)\n",
    "\n",
    "        x = F.avg_pool1d(x, x.shape[-1])\n",
    "        x = x.permute(0, 2, 1)\n",
    "        x = self.fc1(x)\n",
    "        # return F.log_softmax(x, dim=2)\n",
    "        return self.sigmoid(x)"
   ]
  },
  {
   "attachments": {},
   "cell_type": "markdown",
   "metadata": {},
   "source": [
    "### Run model training"
   ]
  },
  {
   "cell_type": "code",
   "execution_count": 15,
   "metadata": {},
   "outputs": [],
   "source": [
    "model = PhonemeRecognizer(\n",
    "    acoustic_model=M3,\n",
    "    num_of_classes=2,\n",
    "    model_params=dict(\n",
    "        n_input=n_input,\n",
    "        n_output=num_of_classes,\n",
    "        stride=stride,\n",
    "        n_channel=n_channel\n",
    "    ),\n",
    "    loss_criterion=nn.BCELoss(),\n",
    "    lr=3e-2\n",
    ")\n",
    "config_params = dict(\n",
    "    n_input=n_input,\n",
    "    n_output=num_of_classes,\n",
    "    stride=stride,\n",
    "    n_channel=n_channel,\n",
    "    optimizer=optimizer,\n",
    "    lr=lr\n",
    ")\n",
    "\n",
    "model_checkpoint_callback = ModelCheckpoint(\n",
    "    monitor='val_loss',\n",
    "    dirpath=cp_path,\n",
    "    filename=model_name + '_' + experiment_name + '{epoch:02d}-{val_loss:.2f}',\n",
    "    save_top_k=-1,\n",
    "    mode='min'\n",
    ")\n",
    "preprocessor_callback = AudioPreprocessorCallback(transform=transform, device=device)\n",
    "callbacks = [preprocessor_callback, model_checkpoint_callback]"
   ]
  },
  {
   "cell_type": "code",
   "execution_count": 30,
   "metadata": {},
   "outputs": [
    {
     "name": "stderr",
     "output_type": "stream",
     "text": [
      "/home/maxim/VisibleSpeech/env/lib/python3.10/site-packages/pytorch_lightning/loggers/wandb.py:395: UserWarning: There is a wandb run already in progress and newly created instances of `WandbLogger` will reuse this run. If this is not desired, call `wandb.finish()` before instantiating `WandbLogger`.\n",
      "  rank_zero_warn(\n",
      "GPU available: True (cuda), used: True\n",
      "TPU available: False, using: 0 TPU cores\n",
      "IPU available: False, using: 0 IPUs\n",
      "HPU available: False, using: 0 HPUs\n",
      "\u001b[34m\u001b[1mwandb\u001b[0m: logging graph, to disable use `wandb.watch(log_graph=False)`\n",
      "/home/maxim/VisibleSpeech/env/lib/python3.10/site-packages/pytorch_lightning/callbacks/model_checkpoint.py:613: UserWarning: Checkpoint directory /home/maxim/VisibleSpeech/PhonemeRecognizer/models/M3/TEST_2023/cp exists and is not empty.\n",
      "  rank_zero_warn(f\"Checkpoint directory {dirpath} exists and is not empty.\")\n",
      "LOCAL_RANK: 0 - CUDA_VISIBLE_DEVICES: [0]\n",
      "\n",
      "  | Name               | Type             | Params\n",
      "--------------------------------------------------------\n",
      "0 | loss_criterion     | BCELoss          | 0     \n",
      "1 | train_metrics      | MetricCollection | 0     \n",
      "2 | val_metrics        | MetricCollection | 0     \n",
      "3 | test_metrics       | MetricCollection | 0     \n",
      "4 | checkpoint_metrics | MetricCollection | 0     \n",
      "5 | acoustic_model     | M3               | 219 K \n",
      "--------------------------------------------------------\n",
      "219 K     Trainable params\n",
      "0         Non-trainable params\n",
      "219 K     Total params\n",
      "0.877     Total estimated model params size (MB)\n"
     ]
    },
    {
     "name": "stdout",
     "output_type": "stream",
     "text": [
      "Epoch 22:  48%|████▊     | 31/64 [00:09<00:09,  3.35it/s, loss=0.273, v_num=pikl]"
     ]
    }
   ],
   "source": [
    "n_epochs = 50\n",
    "\n",
    "logger = WandbLogger(\n",
    "    project=project_name,\n",
    "    name=f'{model_name}_{experiment_name}',\n",
    "    save_dir=logs_path,\n",
    "    log_model='all'\n",
    ")\n",
    "\n",
    "trainer = pl.Trainer(\n",
    "    logger=logger,\n",
    "    default_root_dir=logs_path,\n",
    "    accelerator='gpu',\n",
    "    devices=1,\n",
    "    callbacks=callbacks,\n",
    "    max_epochs=n_epochs,\n",
    "    log_every_n_steps=10)\n",
    "\n",
    "logger.watch(model, log='all', log_graph=True)\n",
    "trainer.fit(model, train_loader, test_loader)\n"
   ]
  },
  {
   "cell_type": "code",
   "execution_count": null,
   "metadata": {},
   "outputs": [],
   "source": []
  }
 ],
 "metadata": {
  "kernelspec": {
   "display_name": "Python 3 (ipykernel)",
   "language": "python",
   "name": "python3"
  },
  "language_info": {
   "codemirror_mode": {
    "name": "ipython",
    "version": 3
   },
   "file_extension": ".py",
   "mimetype": "text/x-python",
   "name": "python",
   "nbconvert_exporter": "python",
   "pygments_lexer": "ipython3",
   "version": "3.10.6"
  }
 },
 "nbformat": 4,
 "nbformat_minor": 1
}
