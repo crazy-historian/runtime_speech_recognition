{
 "cells": [
  {
   "cell_type": "markdown",
   "metadata": {},
   "source": [
    "## Dependencies"
   ]
  },
  {
   "cell_type": "code",
   "execution_count": 1,
   "metadata": {},
   "outputs": [],
   "source": [
    "import sys\n",
    "sys.path.append('/home/maxim/VisibleSpeech/runtime_speech_recognition/data')\n",
    "sys.path.append('/home/maxim/VisibleSpeech/runtime_speech_recognition')"
   ]
  },
  {
   "cell_type": "code",
   "execution_count": 2,
   "metadata": {},
   "outputs": [],
   "source": [
    "import torch\n",
    "from torch import nn\n",
    "\n",
    "import pytorch_lightning as pl\n",
    "\n",
    "import torchaudio.transforms as T\n",
    "import torch.nn.functional as F\n",
    "\n",
    "from IPython.display import Audio, display\n",
    "from data import datasets\n",
    "from utils.utils import provide_reproducibility"
   ]
  },
  {
   "cell_type": "code",
   "execution_count": 3,
   "metadata": {},
   "outputs": [],
   "source": [
    "! pip -qqq install ipywidgets==7.7.2"
   ]
  },
  {
   "cell_type": "markdown",
   "metadata": {},
   "source": [
    "## CUDA device"
   ]
  },
  {
   "cell_type": "code",
   "execution_count": 4,
   "metadata": {},
   "outputs": [
    {
     "name": "stdout",
     "output_type": "stream",
     "text": [
      "cuda\n"
     ]
    }
   ],
   "source": [
    "provide_reproducibility(42)\n",
    "\n",
    "device = torch.device(\"cuda\" if torch.cuda.is_available() else \"cpu\")\n",
    "print(device)"
   ]
  },
  {
   "attachments": {},
   "cell_type": "markdown",
   "metadata": {},
   "source": [
    "## Task config"
   ]
  },
  {
   "cell_type": "code",
   "execution_count": 5,
   "metadata": {},
   "outputs": [],
   "source": [
    "task_type =  'multiclass' # 'all' # binary\n",
    "percentage = 0.4\n",
    "model_name = 'M5'\n",
    "num_channels = 128\n",
    "batch_size = 128\n",
    "lr = 3e-4\n",
    "n_epochs = 40\n",
    "    "
   ]
  },
  {
   "cell_type": "markdown",
   "metadata": {},
   "source": [
    "## Datasets"
   ]
  },
  {
   "cell_type": "code",
   "execution_count": 6,
   "metadata": {},
   "outputs": [],
   "source": [
    "dir_name = '/media/maxim/Programming/voice_datasets/timit/TIMIT_2/data'  # ubuntu"
   ]
  },
  {
   "cell_type": "code",
   "execution_count": 7,
   "metadata": {},
   "outputs": [],
   "source": [
    "import importlib\n",
    "\n",
    "importlib.reload(datasets)\n",
    "\n",
    "vowel_labels = [\n",
    "    'IY', 'IH', 'EH', 'EY', 'AE', 'AA', 'AW', 'AY',\n",
    "    'AH', 'AO', 'OY', 'OW', 'UH', 'UW', 'UX', 'ER',\n",
    "    'AX','IX', 'AXR', 'AH-H'\n",
    "    ]\n",
    "consonant_labels = [\n",
    "        'B', 'D', 'G', 'P', 'T', 'K', 'DX', 'Q',     # stops\n",
    "        'M', 'N', 'NG', 'EM', 'EN', 'ENG', 'NX',     # nasals\n",
    "        'JH', 'CH',                                  # affricates\n",
    "        'S', 'SH', 'Z', 'ZH', 'F', 'TH', 'V', 'DH',  # fricatives\n",
    "        'L', 'R', 'W', 'Y', 'HH', 'HV', 'EL'         # semivowels_glides\n",
    "    ]\n",
    "stops = ['B', 'D', 'G', 'P', 'T', 'K', 'DX', 'Q']\n",
    "nasals = ['M', 'N', 'NG', 'EM', 'EN', 'ENG', 'NX']\n",
    "affricates = ['JH', 'CH']\n",
    "fricatives = ['S', 'SH', 'Z', 'ZH', 'F', 'TH', 'V', 'DH']\n",
    "semivowels_glides = ['L', 'R', 'W', 'Y', 'HH', 'HV', 'EL']\n",
    "other_labels = ['H#', 'PAU', 'EPI']"
   ]
  },
  {
   "cell_type": "code",
   "execution_count": 8,
   "metadata": {},
   "outputs": [],
   "source": [
    "if task_type == 'binary':\n",
    "    phoneme_classes = {\n",
    "        'vowels': vowel_labels,\n",
    "        'consonants': consonant_labels,\n",
    "        'other': other_labels\n",
    "    }\n",
    "    phone_labels = vowel_labels + consonant_labels + other_labels\n",
    "    labels = ['vowels', 'consonants', 'other']\n",
    "    phone_codes = phoneme_classes\n",
    "    phoneme_labeler = datasets.PhonemeLabeler(phoneme_classes=phoneme_classes, mode='.')\n",
    "elif task_type == 'multiclass':\n",
    "    phoneme_classes = {\n",
    "        'vowels': vowel_labels,\n",
    "        'stops': stops,\n",
    "        'nasals': nasals,\n",
    "        'affricates': affricates,\n",
    "        'fricatives': fricatives,\n",
    "        'semivowels_glides': semivowels_glides,\n",
    "        'other': other_labels\n",
    "    }\n",
    "    phone_labels = vowel_labels  + other_labels + stops + nasals + affricates + fricatives + semivowels_glides\n",
    "    labels = ['vowels', 'stops', 'nasals', 'affricates', 'fricatives', 'semivowels_glides', 'other']\n",
    "    phone_codes = phoneme_classes\n",
    "    phoneme_labeler = datasets.PhonemeLabeler(phoneme_classes=phoneme_classes, mode='.')\n",
    "elif task_type == 'all':\n",
    "    phone_codes = None\n",
    "    phoneme_labeler=datasets.PhonemeLabeler(mode='default')\n",
    "    # phoneme_classes = None\n",
    "    # phoneme_labeler_mode = 'default'\n"
   ]
  },
  {
   "cell_type": "code",
   "execution_count": 9,
   "metadata": {},
   "outputs": [],
   "source": [
    "\n",
    "timit_dataset_train = datasets.TIMITDataset(\n",
    "    usage='train',\n",
    "    percentage=percentage,\n",
    "    root_dir=dir_name,\n",
    "    phone_codes=phone_codes,\n",
    "    phoneme_labeler=phoneme_labeler,\n",
    "    description_file_path='../data/timit_description.csv'\n",
    "    )\n",
    "\n",
    "timit_dataset_test = datasets.TIMITDataset(\n",
    "    usage='test',\n",
    "    percentage=percentage,\n",
    "    root_dir=dir_name,\n",
    "    phone_codes=phone_codes,\n",
    "    phoneme_labeler=phoneme_labeler,\n",
    "    description_file_path='../data/timit_description.csv'\n",
    "    )\n",
    "\n",
    "timit_framerate = timit_dataset_train[0].frame_rate"
   ]
  },
  {
   "cell_type": "code",
   "execution_count": 10,
   "metadata": {
    "collapsed": false
   },
   "outputs": [
    {
     "data": {
      "text/plain": [
       "<Axes: ylabel='phone_class'>"
      ]
     },
     "execution_count": 10,
     "metadata": {},
     "output_type": "execute_result"
    },
    {
     "data": {
      "image/png": "[encoded data removed]",
      "text/plain": [
       "<Figure size 640x480 with 1 Axes>"
      ]
     },
     "metadata": {},
     "output_type": "display_data"
    }
   ],
   "source": [
    "timit_dataset_train.description_table.phone_class.value_counts(normalize=True).plot(kind='pie')"
   ]
  },
  {
   "cell_type": "code",
   "execution_count": 11,
   "metadata": {},
   "outputs": [
    {
     "data": {
      "text/plain": [
       "<Axes: ylabel='phone_name'>"
      ]
     },
     "execution_count": 11,
     "metadata": {},
     "output_type": "execute_result"
    },
    {
     "data": {
      "image/png": "[encoded data removed]",
      "text/plain": [
       "<Figure size 640x480 with 1 Axes>"
      ]
     },
     "metadata": {},
     "output_type": "display_data"
    }
   ],
   "source": [
    "timit_dataset_train.description_table.phone_name.value_counts(normalize=True).plot(kind='pie')"
   ]
  },
  {
   "cell_type": "code",
   "execution_count": 12,
   "metadata": {},
   "outputs": [],
   "source": [
    "if task_type == 'all':\n",
    "    labels = timit_dataset_train.description_table.phone_name.unique().tolist()\n",
    "    \n",
    "num_of_classes = len(labels)"
   ]
  },
  {
   "cell_type": "markdown",
   "metadata": {},
   "source": [
    "## Transform"
   ]
  },
  {
   "cell_type": "code",
   "execution_count": 13,
   "metadata": {},
   "outputs": [],
   "source": [
    "transform = T.Resample(orig_freq=timit_framerate, new_freq=8000)\n",
    "transform_cpu = T.Resample(orig_freq=timit_framerate, new_freq=8000)\n",
    "\n",
    "chunk_size = 1024"
   ]
  },
  {
   "attachments": {},
   "cell_type": "markdown",
   "metadata": {},
   "source": [
    "## Dataloaders"
   ]
  },
  {
   "cell_type": "code",
   "execution_count": 14,
   "metadata": {},
   "outputs": [],
   "source": [
    "# def label_to_index(phone):\n",
    "#     index = labels.index(phone)\n",
    "#     num_labels = len(labels)\n",
    "#     one_hot = [0] * num_labels\n",
    "#     one_hot[index] = 1\n",
    "#     return torch.tensor(one_hot)\n",
    "\n",
    "def label_to_index(phone):\n",
    "    # Return the position of the word in labels\n",
    "    return torch.tensor(labels.index(phone))\n",
    "\n",
    "def index_to_label(index):\n",
    "    return labels[index]\n",
    "\n",
    "\n",
    "def pad_sequence(batch):\n",
    "    batch = [item.t() for item in batch]\n",
    "    batch = torch.nn.utils.rnn.pad_sequence(batch, batch_first=True, padding_value=0.)\n",
    "    return batch.permute(0, 2, 1)\n",
    "\n",
    "\n",
    "# def collate_fn(batch):\n",
    "#     tensors, targets = [], []\n",
    "\n",
    "#     for waveform, label, *_ in batch:\n",
    "#         i, j = 0, chunk_size\n",
    "#         while j < waveform.shape[1]:\n",
    "#             # print(waveform.shape)\n",
    "#             tensors += [waveform[..., i:j]]\n",
    "#             targets += [label_to_index(label)]\n",
    "\n",
    "#             i += chunk_size // 2\n",
    "#             j += chunk_size // 2\n",
    "#         # else:\n",
    "#         #     tensors += F.pad(waveform, (0, chunk_size - waveform.shape[0]), 'constant', 0.0)\n",
    "    \n",
    "#         # tensors += [waveform[..., :chunk_size]]\n",
    "#         # targets += [label_to_index(label)]\n",
    "#     print('finish')\n",
    "#     tensors = pad_sequence(tensors)\n",
    "#     targets = torch.stack(targets)\n",
    "\n",
    "#     return tensors, targets\n",
    "\n",
    "def collate_fn(batch):\n",
    "    tensors, targets = [], []\n",
    "\n",
    "    for waveform, label, *_ in batch:\n",
    "        tensors += [waveform[..., :chunk_size]]\n",
    "        targets += [label_to_index(label)]\n",
    "\n",
    "    tensors = pad_sequence(tensors)\n",
    "    targets = torch.stack(targets)\n",
    "\n",
    "    return tensors, targets\n",
    "\n",
    "\n",
    "if device == \"cuda\":\n",
    "    num_workers = 12\n",
    "    pin_memory = True\n",
    "else:\n",
    "    num_workers = 12\n",
    "    pin_memory = False\n",
    "\n",
    "train_loader = torch.utils.data.DataLoader(\n",
    "    timit_dataset_train,\n",
    "    batch_size=batch_size,\n",
    "    shuffle=True,\n",
    "    collate_fn=collate_fn,\n",
    "    num_workers=num_workers,\n",
    "    pin_memory=pin_memory,\n",
    ")\n",
    "test_loader = torch.utils.data.DataLoader(\n",
    "    timit_dataset_test,\n",
    "    batch_size=batch_size,\n",
    "    shuffle=False,\n",
    "    drop_last=False,\n",
    "    collate_fn=collate_fn,\n",
    "    num_workers=num_workers,\n",
    "    pin_memory=pin_memory,\n",
    ")\n",
    "\n",
    "train_features, train_labels = next(iter(train_loader))"
   ]
  },
  {
   "cell_type": "code",
   "execution_count": 15,
   "metadata": {
    "collapsed": false
   },
   "outputs": [
    {
     "data": {
      "text/plain": [
       "(torch.Size([1, 1024]), torch.Size([128]))"
      ]
     },
     "execution_count": 15,
     "metadata": {},
     "output_type": "execute_result"
    }
   ],
   "source": [
    "train_features[0].shape, train_labels.shape"
   ]
  },
  {
   "attachments": {},
   "cell_type": "markdown",
   "metadata": {},
   "source": [
    "# ПОЧИНИ ПАДДИНГ ТЕНЗОРА WAVEFORM"
   ]
  },
  {
   "attachments": {},
   "cell_type": "markdown",
   "metadata": {},
   "source": [
    "## Model training"
   ]
  },
  {
   "cell_type": "code",
   "execution_count": 16,
   "metadata": {},
   "outputs": [
    {
     "data": {
      "text/plain": [
       "<module 'models.mixins' from '/home/maxim/VisibleSpeech/runtime_speech_recognition/models/mixins.py'>"
      ]
     },
     "execution_count": 16,
     "metadata": {},
     "output_type": "execute_result"
    }
   ],
   "source": [
    "import models\n",
    "from models import phoneme_recognizer\n",
    "from models import mixins\n",
    "\n",
    "importlib.reload(models)\n",
    "importlib.reload(phoneme_recognizer)\n",
    "importlib.reload(mixins)"
   ]
  },
  {
   "cell_type": "code",
   "execution_count": 17,
   "metadata": {
    "collapsed": false
   },
   "outputs": [],
   "source": [
    "import torch.nn.functional as F\n",
    "\n",
    "\n",
    "class M3(nn.Module):\n",
    "    def __init__(\n",
    "            self,\n",
    "            n_input=1,\n",
    "            n_output=35,\n",
    "            stride=4,\n",
    "            conv_kernel=80,\n",
    "            maxpool_kernel=4,\n",
    "            n_channel=256\n",
    "        ):\n",
    "        super().__init__()\n",
    "        self.conv1 = nn.Conv1d(n_input, n_channel, kernel_size=conv_kernel, stride=stride)\n",
    "        self.bn1 = nn.BatchNorm1d(n_channel)\n",
    "        self.pool1 = nn.MaxPool1d(maxpool_kernel)\n",
    "        #\n",
    "        self.conv2 = nn.Conv1d(n_channel, n_channel, kernel_size=3)\n",
    "        self.bn2 = nn.BatchNorm1d(n_channel)\n",
    "        self.pool2 = nn.MaxPool1d(maxpool_kernel)\n",
    "\n",
    "        self.fc1 = nn.Linear(n_channel, n_output)\n",
    "\n",
    "    def forward(self, x):\n",
    "        x = self.conv1(x)\n",
    "        x = F.relu(self.bn1(x))\n",
    "        x = self.pool1(x)\n",
    "        x = self.conv2(x)\n",
    "        x = F.relu(self.bn2(x))\n",
    "        x = self.pool2(x)\n",
    "\n",
    "        x = F.avg_pool1d(x, int(x.shape[-1])) # fixme ????\n",
    "        x = x.permute(0, 2, 1)\n",
    "        x = self.fc1(x)\n",
    "        return F.log_softmax(x, dim=2)\n",
    "        # return self.sigmoid(x)"
   ]
  },
  {
   "cell_type": "code",
   "execution_count": 18,
   "metadata": {
    "collapsed": false
   },
   "outputs": [],
   "source": [
    "class M5(nn.Module):\n",
    "    def __init__(\n",
    "            self,\n",
    "            n_input=1,\n",
    "            n_output=35,\n",
    "            stride=4,\n",
    "            conv_kernel=80,\n",
    "            maxpool_kernel=4,\n",
    "            n_channel=128\n",
    "        ):\n",
    "        super().__init__()\n",
    "        self.conv1 = nn.Conv1d(n_input, n_channel, kernel_size=conv_kernel, stride=stride)\n",
    "        self.bn1 = nn.BatchNorm1d(n_channel)\n",
    "        self.pool1 = nn.MaxPool1d(maxpool_kernel)\n",
    "        self.conv2 = nn.Conv1d(n_channel, n_channel, kernel_size=3)\n",
    "        self.bn2 = nn.BatchNorm1d(n_channel)\n",
    "        self.pool2 = nn.MaxPool1d(maxpool_kernel)\n",
    "        self.conv3 = nn.Conv1d(n_channel, 2 * n_channel, kernel_size=3)\n",
    "        self.bn3 = nn.BatchNorm1d(2 * n_channel)\n",
    "        self.pool3 = nn.MaxPool1d(maxpool_kernel)\n",
    "        self.conv4 = nn.Conv1d(2 * n_channel, 2 * n_channel, kernel_size=3)\n",
    "        self.bn4 = nn.BatchNorm1d(2 * n_channel)\n",
    "        self.pool4 = nn.MaxPool1d(maxpool_kernel)\n",
    "        self.fc1 = nn.Linear(2 * n_channel, n_output)\n",
    "\n",
    "    def forward(self, x):\n",
    "        # print(x.shape)\n",
    "        x = self.conv1(x)\n",
    "        # print(x.shape)\n",
    "        x = F.relu(self.bn1(x))\n",
    "        x = self.pool1(x)\n",
    "        # print(x.shape)\n",
    "        x = self.conv2(x)\n",
    "        # print(x.shape)\n",
    "        x = F.relu(self.bn2(x))\n",
    "        x = self.pool2(x)\n",
    "        # print(x.shape)\n",
    "        x = self.conv3(x)\n",
    "        # print(x.shape)\n",
    "        x = F.relu(self.bn3(x))\n",
    "        # print(x.shape)\n",
    "        x = self.pool3(x)\n",
    "        # print(x.shape)\n",
    "        x = self.conv4(x)\n",
    "        # print(x.shape)\n",
    "        x = F.relu(self.bn4(x))\n",
    "        x = self.pool4(x)\n",
    "        # print(x.shape)\n",
    "        x = F.avg_pool1d(x, x.shape[-1])\n",
    "        # print(x.shape)\n",
    "        x = x.permute(0, 2, 1)\n",
    "        # print(x.shape)\n",
    "        x = self.fc1(x)\n",
    "        # print(x.shape)\n",
    "        return F.log_softmax(x, dim=2)"
   ]
  },
  {
   "cell_type": "code",
   "execution_count": 19,
   "metadata": {},
   "outputs": [],
   "source": [
    "class MBlock(nn.Module):\n",
    "    def __init__(self, kernel_size, in_chn, out_chn, count):\n",
    "        super().__init__()\n",
    "        self.layers = self._init_layers(kernel_size, in_chn, out_chn, count)\n",
    "\n",
    "    def _init_layers(self, kernel_size, in_chn, out_chn, count):\n",
    "        layers = list()\n",
    "        for _ in range(count):\n",
    "            layers += [\n",
    "                nn.Conv1d(in_channels=in_chn, out_channels=out_chn, kernel_size=kernel_size),\n",
    "                nn.BatchNorm1d(out_chn),\n",
    "                nn.ReLU()\n",
    "            ]\n",
    "            in_chn = out_chn\n",
    "\n",
    "        return nn.Sequential(*layers)\n",
    "\n",
    "    def forward(self, x):\n",
    "        return self.layers(x)\n",
    "    \n",
    "class M7(nn.Module):\n",
    "    def __init__(\n",
    "            self,\n",
    "            n_input=1,\n",
    "            n_output=20,\n",
    "            stride=4,\n",
    "            conv_kernel=80,\n",
    "            maxpool_kernel=4,\n",
    "            n_channel=64\n",
    "        ):\n",
    "        super().__init__()\n",
    "        self.conv1 = nn.Conv1d(n_input, n_channel, kernel_size=conv_kernel, stride=stride)\n",
    "        self.bn1 = nn.BatchNorm1d(n_channel)\n",
    "        self.pool1 = nn.MaxPool1d(maxpool_kernel)\n",
    "        ##\n",
    "        self.conv_layers_2 = MBlock(kernel_size=3, in_chn=n_channel, out_chn=n_channel, count=3)\n",
    "        self.pool2 = nn.MaxPool1d(maxpool_kernel)\n",
    "        self.conv_layers_3 = MBlock(kernel_size=3, in_chn=n_channel, out_chn=n_channel * 2, count=3)\n",
    "        self.pool3 = nn.MaxPool1d(maxpool_kernel)\n",
    "        ##\n",
    "        self.fc1 = nn.Linear(n_channel * 2, n_output)\n",
    "\n",
    "    def forward(self, x):\n",
    "        x = self.conv1(x)\n",
    "        # print(x.shape)\n",
    "        x = F.relu(self.bn1(x))\n",
    "        # print(x.shape)\n",
    "        x = self.pool1(x)\n",
    "        # print(x.shape)\n",
    "\n",
    "        x = self.conv_layers_2(x)\n",
    "        # print(x.shape)\n",
    "        x = self.pool2(x)\n",
    "        # print(x.shape)\n",
    "\n",
    "        x = self.conv_layers_3(x)\n",
    "        # print(x.shape)\n",
    "        x = self.pool3(x)\n",
    "        # print(x.shape)\n",
    "\n",
    "\n",
    "        x = F.avg_pool1d(x, x.shape[-1])\n",
    "        x = x.permute(0, 2, 1)\n",
    "        x = self.fc1(x)\n",
    "\n",
    "        return F.log_softmax(x, dim=2)\n",
    "\n",
    "\n",
    "class M8(nn.Module):\n",
    "    def __init__(\n",
    "            self,\n",
    "            n_input=1,\n",
    "            n_output=20,\n",
    "            stride=4,\n",
    "            conv_kernel=80,\n",
    "             maxpool_kernel=4,\n",
    "            n_channel=64\n",
    "        ):\n",
    "        super().__init__()\n",
    "        self.conv1 = nn.Conv1d(n_input, n_channel, kernel_size=conv_kernel, stride=stride)\n",
    "        self.bn1 = nn.BatchNorm1d(n_channel)\n",
    "        self.pool1 = nn.MaxPool1d(maxpool_kernel)\n",
    "        ##\n",
    "        self.conv_layers_2 = MBlock(kernel_size=3, in_chn=n_channel, out_chn=n_channel, count=2)\n",
    "        self.pool2 = nn.MaxPool1d(maxpool_kernel)\n",
    "        self.conv_layers_3 = MBlock(kernel_size=3, in_chn=n_channel, out_chn=n_channel * 2, count=2)\n",
    "        self.pool3 = nn.MaxPool1d(maxpool_kernel)\n",
    "        self.conv_layers_4 = MBlock(kernel_size=2, in_chn=n_channel * 2, out_chn=n_channel * 4, count=3)\n",
    "\n",
    "        self.fc1 = nn.Linear(n_channel * 4, n_output)\n",
    "\n",
    "    def forward(self, x):\n",
    "        x = self.conv1(x)\n",
    "        # print(x.shape)\n",
    "        x = F.relu(self.bn1(x))\n",
    "        # print(x.shape)\n",
    "        x = self.pool1(x)\n",
    "        # print(x.shape)\n",
    "\n",
    "        x = self.conv_layers_2(x)\n",
    "        # print(x.shape)\n",
    "        x = self.pool2(x)\n",
    "        # print(x.shape)\n",
    "\n",
    "        x = self.conv_layers_3(x)\n",
    "        # print(x.shape)\n",
    "        x = self.pool3(x)\n",
    "        # print(x.shape)\n",
    "\n",
    "        x = self.conv_layers_4(x)\n",
    "        # print(x.shape)\n",
    "        # x = self.pool4(x)\n",
    "        # print(x.shape)\n",
    "\n",
    "        x = F.avg_pool1d(x, x.shape[-1])\n",
    "        x = x.permute(0, 2, 1)\n",
    "        x = self.fc1(x)\n",
    "\n",
    "        return F.log_softmax(x, dim=2)"
   ]
  },
  {
   "cell_type": "code",
   "execution_count": 20,
   "metadata": {},
   "outputs": [],
   "source": [
    "from pathlib import Path\n",
    "\n",
    "# model params\n",
    "n_input = 1\n",
    "n_output = num_of_classes\n",
    "stride = 2\n",
    "kernel_size = 10\n",
    "maxpool_kernel = 4\n",
    "n_channel = num_channels\n",
    "optimizer = 'adadelta'\n",
    "\n",
    "\n",
    "\n",
    "# experiment_name = f'no resample, chunk_size={chunk_size}, kernel={kernel_size}, stride={stride}, n_channels={n_channel}, optimizer={optimizer}, lr={lr}'\n",
    "experiment_name = f'(batch_size={batch_size},{percentage}%,conv={kernel_size},{stride}, maxpool={maxpool_kernel} lr={lr})'\n",
    "project_name = 'Поиск значений гиперпараметров'\n",
    "\n",
    "run_name = f'{model_name}|num of classes:{num_of_classes}|params:{experiment_name}'\n",
    "model_path = Path(f'/home/maxim/VisibleSpeech/runtime_speech_recognition/models/{model_name}')\n",
    "experiment_path_model = model_path / experiment_name\n",
    "\n",
    "logs_path = experiment_path_model / 'logs'\n",
    "cp_path = experiment_path_model / 'cp'\n",
    "logs_path.mkdir(parents=True, exist_ok=True)\n",
    "cp_path.mkdir(parents=True, exist_ok=True)"
   ]
  },
  {
   "cell_type": "code",
   "execution_count": 21,
   "metadata": {},
   "outputs": [],
   "source": [
    "models_dict = {\n",
    "    'M3': M3,\n",
    "    'M5': M5,\n",
    "    'M7': M7,\n",
    "    'M8': M8\n",
    "}\n",
    "\n",
    "model = models_dict[model_name]\n",
    "\n",
    "example = torch.rand(1, 1, 1024)\n",
    "test_model = model(\n",
    "    n_input=n_input,\n",
    "    n_output=num_of_classes,\n",
    "    stride=stride,\n",
    "    maxpool_kernel=maxpool_kernel,\n",
    "    conv_kernel=kernel_size,\n",
    "    n_channel=n_channel\n",
    ")"
   ]
  },
  {
   "cell_type": "code",
   "execution_count": 22,
   "metadata": {},
   "outputs": [],
   "source": [
    "# %%time\n",
    "# test_model(example)"
   ]
  },
  {
   "cell_type": "code",
   "execution_count": 23,
   "metadata": {},
   "outputs": [
    {
     "data": {
      "text/plain": [
       "__main__.M5"
      ]
     },
     "execution_count": 23,
     "metadata": {},
     "output_type": "execute_result"
    }
   ],
   "source": [
    "model"
   ]
  },
  {
   "cell_type": "code",
   "execution_count": 24,
   "metadata": {},
   "outputs": [],
   "source": [
    "from pathlib import Path\n",
    "from models.phoneme_recognizer import PhonemeRecognizer, AudioPreprocessorCallback\n",
    "from pytorch_lightning.callbacks import ModelCheckpoint\n",
    "\n",
    "\n",
    "model = PhonemeRecognizer(\n",
    "    acoustic_model=model,\n",
    "    num_of_classes=num_of_classes,\n",
    "    model_params=dict(\n",
    "        n_input=n_input,\n",
    "        n_output=num_of_classes,\n",
    "        stride=stride,\n",
    "        maxpool_kernel=maxpool_kernel,\n",
    "        conv_kernel=kernel_size,\n",
    "        n_channel=n_channel\n",
    "    ),\n",
    "    loss_criterion=nn.NLLLoss(),\n",
    "    lr=lr,\n",
    "    target_type=None\n",
    ")\n",
    "config_params = dict(\n",
    "    n_input=n_input,\n",
    "    n_output=num_of_classes,\n",
    "    stride=stride,\n",
    "    n_channel=n_channel,\n",
    "    optimizer=optimizer,\n",
    "    conv_kernel=kernel_size,\n",
    "    maxpool_kernel=maxpool_kernel,\n",
    "    lr=lr\n",
    ")\n",
    "\n",
    "model_checkpoint_callback = ModelCheckpoint(\n",
    "    monitor='val_loss',\n",
    "    dirpath=cp_path,\n",
    "    filename=model_name + '_' + experiment_name + '{epoch:02d}-{val_loss:.2f}',\n",
    "    save_top_k=-1,\n",
    "    mode='min'\n",
    ")\n",
    "preprocessor_callback = AudioPreprocessorCallback(transform=transform, device=device)\n",
    "callbacks = [model_checkpoint_callback]"
   ]
  },
  {
   "cell_type": "code",
   "execution_count": 25,
   "metadata": {},
   "outputs": [
    {
     "name": "stderr",
     "output_type": "stream",
     "text": [
      "Failed to detect the name of this notebook, you can set it manually with the WANDB_NOTEBOOK_NAME environment variable to enable code saving.\n",
      "\u001b[34m\u001b[1mwandb\u001b[0m: Currently logged in as: \u001b[33mcrazy_historian\u001b[0m. Use \u001b[1m`wandb login --relogin`\u001b[0m to force relogin\n"
     ]
    },
    {
     "data": {
      "text/html": [
       "wandb version 0.15.4 is available!  To upgrade, please run:\n",
       " $ pip install wandb --upgrade"
      ],
      "text/plain": [
       "<IPython.core.display.HTML object>"
      ]
     },
     "metadata": {},
     "output_type": "display_data"
    },
    {
     "data": {
      "text/html": [
       "Tracking run with wandb version 0.15.3"
      ],
      "text/plain": [
       "<IPython.core.display.HTML object>"
      ]
     },
     "metadata": {},
     "output_type": "display_data"
    },
    {
     "data": {
      "text/html": [
       "Run data is saved locally in <code>/home/maxim/VisibleSpeech/runtime_speech_recognition/models/M5/(batch_size=128,0.4%,conv=10,2, maxpool=4 lr=0.0003)/logs/wandb/run-20230612_000912-aftenc4d</code>"
      ],
      "text/plain": [
       "<IPython.core.display.HTML object>"
      ]
     },
     "metadata": {},
     "output_type": "display_data"
    },
    {
     "data": {
      "text/html": [
       "Syncing run <strong><a href='https://wandb.ai/crazy_historian/%D0%9F%D0%BE%D0%B8%D1%81%D0%BA%20%D0%B7%D0%BD%D0%B0%D1%87%D0%B5%D0%BD%D0%B8%D0%B9%20%D0%B3%D0%B8%D0%BF%D0%B5%D1%80%D0%BF%D0%B0%D1%80%D0%B0%D0%BC%D0%B5%D1%82%D1%80%D0%BE%D0%B2/runs/aftenc4d' target=\"_blank\">M5|num of classes:7|params:(batch_size=128,0.4%,conv=10,2, maxpool=4 lr=0.0003)</a></strong> to <a href='https://wandb.ai/crazy_historian/%D0%9F%D0%BE%D0%B8%D1%81%D0%BA%20%D0%B7%D0%BD%D0%B0%D1%87%D0%B5%D0%BD%D0%B8%D0%B9%20%D0%B3%D0%B8%D0%BF%D0%B5%D1%80%D0%BF%D0%B0%D1%80%D0%B0%D0%BC%D0%B5%D1%82%D1%80%D0%BE%D0%B2' target=\"_blank\">Weights & Biases</a> (<a href='https://wandb.me/run' target=\"_blank\">docs</a>)<br/>"
      ],
      "text/plain": [
       "<IPython.core.display.HTML object>"
      ]
     },
     "metadata": {},
     "output_type": "display_data"
    },
    {
     "data": {
      "text/html": [
       " View project at <a href='https://wandb.ai/crazy_historian/%D0%9F%D0%BE%D0%B8%D1%81%D0%BA%20%D0%B7%D0%BD%D0%B0%D1%87%D0%B5%D0%BD%D0%B8%D0%B9%20%D0%B3%D0%B8%D0%BF%D0%B5%D1%80%D0%BF%D0%B0%D1%80%D0%B0%D0%BC%D0%B5%D1%82%D1%80%D0%BE%D0%B2' target=\"_blank\">https://wandb.ai/crazy_historian/%D0%9F%D0%BE%D0%B8%D1%81%D0%BA%20%D0%B7%D0%BD%D0%B0%D1%87%D0%B5%D0%BD%D0%B8%D0%B9%20%D0%B3%D0%B8%D0%BF%D0%B5%D1%80%D0%BF%D0%B0%D1%80%D0%B0%D0%BC%D0%B5%D1%82%D1%80%D0%BE%D0%B2</a>"
      ],
      "text/plain": [
       "<IPython.core.display.HTML object>"
      ]
     },
     "metadata": {},
     "output_type": "display_data"
    },
    {
     "data": {
      "text/html": [
       " View run at <a href='https://wandb.ai/crazy_historian/%D0%9F%D0%BE%D0%B8%D1%81%D0%BA%20%D0%B7%D0%BD%D0%B0%D1%87%D0%B5%D0%BD%D0%B8%D0%B9%20%D0%B3%D0%B8%D0%BF%D0%B5%D1%80%D0%BF%D0%B0%D1%80%D0%B0%D0%BC%D0%B5%D1%82%D1%80%D0%BE%D0%B2/runs/aftenc4d' target=\"_blank\">https://wandb.ai/crazy_historian/%D0%9F%D0%BE%D0%B8%D1%81%D0%BA%20%D0%B7%D0%BD%D0%B0%D1%87%D0%B5%D0%BD%D0%B8%D0%B9%20%D0%B3%D0%B8%D0%BF%D0%B5%D1%80%D0%BF%D0%B0%D1%80%D0%B0%D0%BC%D0%B5%D1%82%D1%80%D0%BE%D0%B2/runs/aftenc4d</a>"
      ],
      "text/plain": [
       "<IPython.core.display.HTML object>"
      ]
     },
     "metadata": {},
     "output_type": "display_data"
    },
    {
     "name": "stderr",
     "output_type": "stream",
     "text": [
      "GPU available: True (cuda), used: True\n",
      "TPU available: False, using: 0 TPU cores\n",
      "IPU available: False, using: 0 IPUs\n",
      "HPU available: False, using: 0 HPUs\n",
      "\u001b[34m\u001b[1mwandb\u001b[0m: logging graph, to disable use `wandb.watch(log_graph=False)`\n",
      "LOCAL_RANK: 0 - CUDA_VISIBLE_DEVICES: [0]\n",
      "\n",
      "  | Name               | Type             | Params\n",
      "--------------------------------------------------------\n",
      "0 | loss_criterion     | NLLLoss          | 0     \n",
      "1 | train_metrics      | MetricCollection | 0     \n",
      "2 | val_metrics        | MetricCollection | 0     \n",
      "3 | test_metrics       | MetricCollection | 0     \n",
      "4 | checkpoint_metrics | MetricCollection | 0     \n",
      "5 | acoustic_model     | M5               | 349 K \n",
      "--------------------------------------------------------\n",
      "349 K     Trainable params\n",
      "0         Non-trainable params\n",
      "349 K     Total params\n",
      "1.398     Total estimated model params size (MB)\n"
     ]
    },
    {
     "data": {
      "application/vnd.jupyter.widget-view+json": {
       "model_id": "5ec0e62d6dd34872826138bf7947eca7",
       "version_major": 2,
       "version_minor": 0
      },
      "text/plain": [
       "Sanity Checking: 0it [00:00, ?it/s]"
      ]
     },
     "metadata": {},
     "output_type": "display_data"
    },
    {
     "data": {
      "application/vnd.jupyter.widget-view+json": {
       "model_id": "df4efece6b5d4cddab5fd8b82c662284",
       "version_major": 2,
       "version_minor": 0
      },
      "text/plain": [
       "Training: 0it [00:00, ?it/s]"
      ]
     },
     "metadata": {},
     "output_type": "display_data"
    },
    {
     "data": {
      "application/vnd.jupyter.widget-view+json": {
       "model_id": "26d643077c8a4174a29ae2286c7d94fd",
       "version_major": 2,
       "version_minor": 0
      },
      "text/plain": [
       "Validation: 0it [00:00, ?it/s]"
      ]
     },
     "metadata": {},
     "output_type": "display_data"
    },
    {
     "data": {
      "application/vnd.jupyter.widget-view+json": {
       "model_id": "1ca2030634ae4c0cab097c5fc031a08c",
       "version_major": 2,
       "version_minor": 0
      },
      "text/plain": [
       "Validation: 0it [00:00, ?it/s]"
      ]
     },
     "metadata": {},
     "output_type": "display_data"
    },
    {
     "data": {
      "application/vnd.jupyter.widget-view+json": {
       "model_id": "3fe85e76b14f4a3e98310a187aae7e23",
       "version_major": 2,
       "version_minor": 0
      },
      "text/plain": [
       "Validation: 0it [00:00, ?it/s]"
      ]
     },
     "metadata": {},
     "output_type": "display_data"
    },
    {
     "data": {
      "application/vnd.jupyter.widget-view+json": {
       "model_id": "fb3cd61e27ae475e8b1f818f57a0fcfd",
       "version_major": 2,
       "version_minor": 0
      },
      "text/plain": [
       "Validation: 0it [00:00, ?it/s]"
      ]
     },
     "metadata": {},
     "output_type": "display_data"
    },
    {
     "data": {
      "application/vnd.jupyter.widget-view+json": {
       "model_id": "cab4bed6f67c46c3b40762a0ca938192",
       "version_major": 2,
       "version_minor": 0
      },
      "text/plain": [
       "Validation: 0it [00:00, ?it/s]"
      ]
     },
     "metadata": {},
     "output_type": "display_data"
    },
    {
     "data": {
      "application/vnd.jupyter.widget-view+json": {
       "model_id": "e39236c543a84e848b683345cc6d81bf",
       "version_major": 2,
       "version_minor": 0
      },
      "text/plain": [
       "Validation: 0it [00:00, ?it/s]"
      ]
     },
     "metadata": {},
     "output_type": "display_data"
    },
    {
     "data": {
      "application/vnd.jupyter.widget-view+json": {
       "model_id": "8cc79679ff354046978cc47750a28a44",
       "version_major": 2,
       "version_minor": 0
      },
      "text/plain": [
       "Validation: 0it [00:00, ?it/s]"
      ]
     },
     "metadata": {},
     "output_type": "display_data"
    },
    {
     "data": {
      "application/vnd.jupyter.widget-view+json": {
       "model_id": "456beee1210c4b478cc86a480e037b1b",
       "version_major": 2,
       "version_minor": 0
      },
      "text/plain": [
       "Validation: 0it [00:00, ?it/s]"
      ]
     },
     "metadata": {},
     "output_type": "display_data"
    },
    {
     "data": {
      "application/vnd.jupyter.widget-view+json": {
       "model_id": "6e76b6b0231d405fa80fe5fe779a123c",
       "version_major": 2,
       "version_minor": 0
      },
      "text/plain": [
       "Validation: 0it [00:00, ?it/s]"
      ]
     },
     "metadata": {},
     "output_type": "display_data"
    },
    {
     "data": {
      "application/vnd.jupyter.widget-view+json": {
       "model_id": "115e06101fa34a918a80f6f43140905c",
       "version_major": 2,
       "version_minor": 0
      },
      "text/plain": [
       "Validation: 0it [00:00, ?it/s]"
      ]
     },
     "metadata": {},
     "output_type": "display_data"
    },
    {
     "data": {
      "application/vnd.jupyter.widget-view+json": {
       "model_id": "8863c770fc0d4ca096f7b7b9d66bd9e8",
       "version_major": 2,
       "version_minor": 0
      },
      "text/plain": [
       "Validation: 0it [00:00, ?it/s]"
      ]
     },
     "metadata": {},
     "output_type": "display_data"
    },
    {
     "data": {
      "application/vnd.jupyter.widget-view+json": {
       "model_id": "78ae71ee790145d89ea963246363131b",
       "version_major": 2,
       "version_minor": 0
      },
      "text/plain": [
       "Validation: 0it [00:00, ?it/s]"
      ]
     },
     "metadata": {},
     "output_type": "display_data"
    },
    {
     "data": {
      "application/vnd.jupyter.widget-view+json": {
       "model_id": "6fa4bd8504514081aefa17c8ec9ec141",
       "version_major": 2,
       "version_minor": 0
      },
      "text/plain": [
       "Validation: 0it [00:00, ?it/s]"
      ]
     },
     "metadata": {},
     "output_type": "display_data"
    },
    {
     "data": {
      "application/vnd.jupyter.widget-view+json": {
       "model_id": "6df2aa2ffd0f478da4f552b157f84aea",
       "version_major": 2,
       "version_minor": 0
      },
      "text/plain": [
       "Validation: 0it [00:00, ?it/s]"
      ]
     },
     "metadata": {},
     "output_type": "display_data"
    },
    {
     "data": {
      "application/vnd.jupyter.widget-view+json": {
       "model_id": "422f8ee1fbf84bf69db6777ca8358027",
       "version_major": 2,
       "version_minor": 0
      },
      "text/plain": [
       "Validation: 0it [00:00, ?it/s]"
      ]
     },
     "metadata": {},
     "output_type": "display_data"
    },
    {
     "data": {
      "application/vnd.jupyter.widget-view+json": {
       "model_id": "e278d9fb2ff9438aa5ef56b6ade05838",
       "version_major": 2,
       "version_minor": 0
      },
      "text/plain": [
       "Validation: 0it [00:00, ?it/s]"
      ]
     },
     "metadata": {},
     "output_type": "display_data"
    },
    {
     "data": {
      "application/vnd.jupyter.widget-view+json": {
       "model_id": "9903d56e41ce4ad18a538cd6a3199b86",
       "version_major": 2,
       "version_minor": 0
      },
      "text/plain": [
       "Validation: 0it [00:00, ?it/s]"
      ]
     },
     "metadata": {},
     "output_type": "display_data"
    },
    {
     "data": {
      "application/vnd.jupyter.widget-view+json": {
       "model_id": "2a5c1ee9a88749a282ad9031fffaa2a0",
       "version_major": 2,
       "version_minor": 0
      },
      "text/plain": [
       "Validation: 0it [00:00, ?it/s]"
      ]
     },
     "metadata": {},
     "output_type": "display_data"
    },
    {
     "data": {
      "application/vnd.jupyter.widget-view+json": {
       "model_id": "5abfeb3df865463ba02b53472fb5f3f6",
       "version_major": 2,
       "version_minor": 0
      },
      "text/plain": [
       "Validation: 0it [00:00, ?it/s]"
      ]
     },
     "metadata": {},
     "output_type": "display_data"
    },
    {
     "data": {
      "application/vnd.jupyter.widget-view+json": {
       "model_id": "4ff07059e46b4b2aa8f6cf814f47a6dd",
       "version_major": 2,
       "version_minor": 0
      },
      "text/plain": [
       "Validation: 0it [00:00, ?it/s]"
      ]
     },
     "metadata": {},
     "output_type": "display_data"
    },
    {
     "data": {
      "application/vnd.jupyter.widget-view+json": {
       "model_id": "fe361834876c48df99aacb02984354de",
       "version_major": 2,
       "version_minor": 0
      },
      "text/plain": [
       "Validation: 0it [00:00, ?it/s]"
      ]
     },
     "metadata": {},
     "output_type": "display_data"
    },
    {
     "data": {
      "application/vnd.jupyter.widget-view+json": {
       "model_id": "6f3dd7841b644ba1abcff4de3c8918a9",
       "version_major": 2,
       "version_minor": 0
      },
      "text/plain": [
       "Validation: 0it [00:00, ?it/s]"
      ]
     },
     "metadata": {},
     "output_type": "display_data"
    },
    {
     "data": {
      "application/vnd.jupyter.widget-view+json": {
       "model_id": "cde9c764ab714efcb90a0dea118c0354",
       "version_major": 2,
       "version_minor": 0
      },
      "text/plain": [
       "Validation: 0it [00:00, ?it/s]"
      ]
     },
     "metadata": {},
     "output_type": "display_data"
    },
    {
     "data": {
      "application/vnd.jupyter.widget-view+json": {
       "model_id": "2287ecc80b3a4d9b9ac9d5811656f688",
       "version_major": 2,
       "version_minor": 0
      },
      "text/plain": [
       "Validation: 0it [00:00, ?it/s]"
      ]
     },
     "metadata": {},
     "output_type": "display_data"
    },
    {
     "data": {
      "application/vnd.jupyter.widget-view+json": {
       "model_id": "22c77ea82934485b9c34264325b8976f",
       "version_major": 2,
       "version_minor": 0
      },
      "text/plain": [
       "Validation: 0it [00:00, ?it/s]"
      ]
     },
     "metadata": {},
     "output_type": "display_data"
    },
    {
     "data": {
      "application/vnd.jupyter.widget-view+json": {
       "model_id": "5992d7d319f341a28bc197aa9379f9bb",
       "version_major": 2,
       "version_minor": 0
      },
      "text/plain": [
       "Validation: 0it [00:00, ?it/s]"
      ]
     },
     "metadata": {},
     "output_type": "display_data"
    },
    {
     "data": {
      "application/vnd.jupyter.widget-view+json": {
       "model_id": "03f469ffc409464cbfe0b36dc42fc0cc",
       "version_major": 2,
       "version_minor": 0
      },
      "text/plain": [
       "Validation: 0it [00:00, ?it/s]"
      ]
     },
     "metadata": {},
     "output_type": "display_data"
    },
    {
     "data": {
      "application/vnd.jupyter.widget-view+json": {
       "model_id": "0d37bea554774239bda31c4fe53a7b38",
       "version_major": 2,
       "version_minor": 0
      },
      "text/plain": [
       "Validation: 0it [00:00, ?it/s]"
      ]
     },
     "metadata": {},
     "output_type": "display_data"
    },
    {
     "data": {
      "application/vnd.jupyter.widget-view+json": {
       "model_id": "160359bae32f424589c4d7c3bc7d37ad",
       "version_major": 2,
       "version_minor": 0
      },
      "text/plain": [
       "Validation: 0it [00:00, ?it/s]"
      ]
     },
     "metadata": {},
     "output_type": "display_data"
    },
    {
     "data": {
      "application/vnd.jupyter.widget-view+json": {
       "model_id": "041a485583774b57adaed2891a1c998a",
       "version_major": 2,
       "version_minor": 0
      },
      "text/plain": [
       "Validation: 0it [00:00, ?it/s]"
      ]
     },
     "metadata": {},
     "output_type": "display_data"
    },
    {
     "data": {
      "application/vnd.jupyter.widget-view+json": {
       "model_id": "45770a9dd16e47d586ab61f5bcffc9c0",
       "version_major": 2,
       "version_minor": 0
      },
      "text/plain": [
       "Validation: 0it [00:00, ?it/s]"
      ]
     },
     "metadata": {},
     "output_type": "display_data"
    },
    {
     "data": {
      "application/vnd.jupyter.widget-view+json": {
       "model_id": "dda8e8eeb19647c6a424f32bd6d8789e",
       "version_major": 2,
       "version_minor": 0
      },
      "text/plain": [
       "Validation: 0it [00:00, ?it/s]"
      ]
     },
     "metadata": {},
     "output_type": "display_data"
    },
    {
     "data": {
      "application/vnd.jupyter.widget-view+json": {
       "model_id": "4fd7e019cddb4919b8f85368a920e63f",
       "version_major": 2,
       "version_minor": 0
      },
      "text/plain": [
       "Validation: 0it [00:00, ?it/s]"
      ]
     },
     "metadata": {},
     "output_type": "display_data"
    },
    {
     "data": {
      "application/vnd.jupyter.widget-view+json": {
       "model_id": "8888a1424c194a709020042014a09a80",
       "version_major": 2,
       "version_minor": 0
      },
      "text/plain": [
       "Validation: 0it [00:00, ?it/s]"
      ]
     },
     "metadata": {},
     "output_type": "display_data"
    },
    {
     "data": {
      "application/vnd.jupyter.widget-view+json": {
       "model_id": "07541dc3f25a4e52a9737e2ce0164268",
       "version_major": 2,
       "version_minor": 0
      },
      "text/plain": [
       "Validation: 0it [00:00, ?it/s]"
      ]
     },
     "metadata": {},
     "output_type": "display_data"
    },
    {
     "data": {
      "application/vnd.jupyter.widget-view+json": {
       "model_id": "92997806d3f540d28235feaadee7326e",
       "version_major": 2,
       "version_minor": 0
      },
      "text/plain": [
       "Validation: 0it [00:00, ?it/s]"
      ]
     },
     "metadata": {},
     "output_type": "display_data"
    },
    {
     "data": {
      "application/vnd.jupyter.widget-view+json": {
       "model_id": "66b7cc3a9d334d508d51de993298da4b",
       "version_major": 2,
       "version_minor": 0
      },
      "text/plain": [
       "Validation: 0it [00:00, ?it/s]"
      ]
     },
     "metadata": {},
     "output_type": "display_data"
    },
    {
     "data": {
      "application/vnd.jupyter.widget-view+json": {
       "model_id": "71c1357ce8484f949f96cbea7d8a9318",
       "version_major": 2,
       "version_minor": 0
      },
      "text/plain": [
       "Validation: 0it [00:00, ?it/s]"
      ]
     },
     "metadata": {},
     "output_type": "display_data"
    },
    {
     "data": {
      "application/vnd.jupyter.widget-view+json": {
       "model_id": "0b05aa21ea084ffdbf8a4e34c6f48e0c",
       "version_major": 2,
       "version_minor": 0
      },
      "text/plain": [
       "Validation: 0it [00:00, ?it/s]"
      ]
     },
     "metadata": {},
     "output_type": "display_data"
    },
    {
     "data": {
      "application/vnd.jupyter.widget-view+json": {
       "model_id": "19431ada90b94795a0054afa50e1de8f",
       "version_major": 2,
       "version_minor": 0
      },
      "text/plain": [
       "Validation: 0it [00:00, ?it/s]"
      ]
     },
     "metadata": {},
     "output_type": "display_data"
    },
    {
     "name": "stderr",
     "output_type": "stream",
     "text": [
      "`Trainer.fit` stopped: `max_epochs=40` reached.\n"
     ]
    }
   ],
   "source": [
    "from pytorch_lightning.loggers import WandbLogger\n",
    "\n",
    "\n",
    "logger = WandbLogger(\n",
    "    project=project_name,\n",
    "    name=run_name,\n",
    "    save_dir=logs_path,\n",
    "    log_model='all'\n",
    ")\n",
    "\n",
    "trainer = pl.Trainer(\n",
    "    logger=logger,\n",
    "    default_root_dir=logs_path,\n",
    "    accelerator='gpu',\n",
    "    devices=1,\n",
    "    callbacks=callbacks,\n",
    "    max_epochs=n_epochs,\n",
    "    log_every_n_steps=10)\n",
    "\n",
    "logger.watch(model, log='all', log_graph=True)\n",
    "trainer.fit(model, train_loader, test_loader)\n"
   ]
  },
  {
   "cell_type": "code",
   "execution_count": 26,
   "metadata": {
    "collapsed": false
   },
   "outputs": [],
   "source": [
    "# filepath = f'{model_name}_{experiment_name}'\n",
    "# input_sample = train_features[0].unsqueeze(0)\n",
    "\n",
    "# model.to_onnx(filepath, input_sample, export_params=True)"
   ]
  },
  {
   "attachments": {},
   "cell_type": "markdown",
   "metadata": {},
   "source": [
    "## Time of execution"
   ]
  },
  {
   "cell_type": "code",
   "execution_count": 27,
   "metadata": {},
   "outputs": [],
   "source": [
    "model_name = 'M8'\n",
    "\n",
    "example = torch.rand(1, 1, 1024)\n",
    "\n",
    "n_channel = 64\n",
    "num_of_classes = 61\n",
    "\n",
    "test_model = models_dict[model_name](\n",
    "    n_input=n_input,\n",
    "    n_output=num_of_classes,\n",
    "    stride=stride,\n",
    "    maxpool_kernel=maxpool_kernel,\n",
    "    conv_kernel=kernel_size,\n",
    "    n_channel=n_channel\n",
    ")"
   ]
  },
  {
   "cell_type": "code",
   "execution_count": 28,
   "metadata": {},
   "outputs": [
    {
     "name": "stdout",
     "output_type": "stream",
     "text": [
      "1.21 ms ± 10 µs per loop (mean ± std. dev. of 7 runs, 1,000 loops each)\n"
     ]
    }
   ],
   "source": [
    "%%timeit\n",
    "test_model(example)"
   ]
  },
  {
   "cell_type": "code",
   "execution_count": null,
   "metadata": {},
   "outputs": [],
   "source": []
  }
 ],
 "metadata": {
  "kernelspec": {
   "display_name": "Python 3 (ipykernel)",
   "language": "python",
   "name": "python3"
  },
  "language_info": {
   "codemirror_mode": {
    "name": "ipython",
    "version": 3
   },
   "file_extension": ".py",
   "mimetype": "text/x-python",
   "name": "python",
   "nbconvert_exporter": "python",
   "pygments_lexer": "ipython3",
   "version": "3.10.6"
  }
 },
 "nbformat": 4,
 "nbformat_minor": 1
}
